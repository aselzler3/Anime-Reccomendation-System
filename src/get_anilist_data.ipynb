{
 "cells": [
  {
   "cell_type": "code",
   "execution_count": 53,
   "metadata": {},
   "outputs": [],
   "source": [
    "import requests\n"
   ]
  },
  {
   "cell_type": "code",
   "execution_count": 48,
   "metadata": {},
   "outputs": [],
   "source": [
    "username='selzla'\n",
    "url='https://anilist.co/api/'\n",
    "cid='selzla-6acux'    \n",
    "sec='eGi4fmsY9pV64E1fSTWJJ1'\n",
    "params={'grant_type':\"client_credentials\",'client_id':cid,'client_secret':sec}\n"
   ]
  },
  {
   "cell_type": "code",
   "execution_count": 49,
   "metadata": {},
   "outputs": [],
   "source": [
    "access=requests.post(url+'auth/access_token',data=params)\n",
    "access_token=access.json()['access_token']\n"
   ]
  },
  {
   "cell_type": "code",
   "execution_count": 73,
   "metadata": {},
   "outputs": [
    {
     "data": {
      "text/plain": [
       "{'access_token': 'XqwcUCwHkj5vChMmNgSQVJVUkogADk0u53s2zCQd',\n",
       " 'expires': 1535502574,\n",
       " 'expires_in': 3600,\n",
       " 'token_type': 'Bearer'}"
      ]
     },
     "execution_count": 73,
     "metadata": {},
     "output_type": "execute_result"
    }
   ],
   "source": [
    "access.json()"
   ]
  },
  {
   "cell_type": "code",
   "execution_count": 50,
   "metadata": {},
   "outputs": [],
   "source": [
    "user_anime=requests.get(url+'user/'+username+'/animelist?access_token='+access_token)\n",
    "completed = user_anime.json()['lists']['completed']"
   ]
  },
  {
   "cell_type": "code",
   "execution_count": 52,
   "metadata": {},
   "outputs": [
    {
     "data": {
      "text/plain": [
       "'selzla'"
      ]
     },
     "execution_count": 52,
     "metadata": {},
     "output_type": "execute_result"
    }
   ],
   "source": [
    "user_anime.json()['display_name']"
   ]
  },
  {
   "cell_type": "code",
   "execution_count": 90,
   "metadata": {},
   "outputs": [
    {
     "data": {
      "text/plain": [
       "{'about': 'Admin of this site and AniChart.net.\\n\\nTwitter [J0shstar](https://twitter.com/J0shStar)',\n",
       " 'adult_content': True,\n",
       " 'advanced_rating': False,\n",
       " 'advanced_rating_names': [],\n",
       " 'airing_notifications': 1,\n",
       " 'anime_time': 83483,\n",
       " 'custom_list_anime': ['Anime Soc', 'Winter', 'Summer', 'Fall'],\n",
       " 'custom_list_manga': [],\n",
       " 'display_name': 'Josh',\n",
       " 'donator': 0,\n",
       " 'following': False,\n",
       " 'forum_homepage': 0,\n",
       " 'id': 1,\n",
       " 'image_url_banner': 'https://cdn.anilist.co/img/dir/userbanner/n1-IyJTY8aD5B0d.jpg',\n",
       " 'image_url_lge': 'https://cdn.anilist.co/img/dir/user/reg/1-dPWfW19Aaquq.png',\n",
       " 'image_url_med': 'https://cdn.anilist.co/img/dir/user/sml/1-dPWfW19Aaquq.png',\n",
       " 'legacy_lists': False,\n",
       " 'list_order': 0,\n",
       " 'manga_chap': 1551,\n",
       " 'notifications': 1,\n",
       " 'score_type': 3,\n",
       " 'stats': {'activity_history': {'2018-02-27': {'color': '#d6e685', 'count': 1},\n",
       "   '2018-03-02': {'color': '#d6e685', 'count': 1},\n",
       "   '2018-03-06': {'color': '#d6e685', 'count': 2},\n",
       "   '2018-03-07': {'color': '#d6e685', 'count': 1},\n",
       "   '2018-03-14': {'color': '#d6e685', 'count': 1},\n",
       "   '2018-03-16': {'color': '#d6e685', 'count': 1},\n",
       "   '2018-03-17': {'color': '#d6e685', 'count': 1},\n",
       "   '2018-03-30': {'color': '#d6e685', 'count': 1},\n",
       "   '2018-04-11': {'color': '#d6e685', 'count': 2},\n",
       "   '2018-04-14': {'color': '#d6e685', 'count': 1},\n",
       "   '2018-04-15': {'color': '#d6e685', 'count': 1},\n",
       "   '2018-04-16': {'color': '#d6e685', 'count': 1},\n",
       "   '2018-04-17': {'color': '#d6e685', 'count': 2},\n",
       "   '2018-04-18': {'color': '#d6e685', 'count': 1},\n",
       "   '2018-04-21': {'color': '#d6e685', 'count': 1},\n",
       "   '2018-04-22': {'color': '#d6e685', 'count': 1},\n",
       "   '2018-04-23': {'color': '#d6e685', 'count': 1},\n",
       "   '2018-04-25': {'color': '#d6e685', 'count': 1},\n",
       "   '2018-04-28': {'color': '#d6e685', 'count': 1},\n",
       "   '2018-04-30': {'color': '#d6e685', 'count': 1},\n",
       "   '2018-05-06': {'color': '#d6e685', 'count': 1},\n",
       "   '2018-05-07': {'color': '#d6e685', 'count': 1},\n",
       "   '2018-05-13': {'color': '#d6e685', 'count': 1},\n",
       "   '2018-05-14': {'color': '#d6e685', 'count': 1},\n",
       "   '2018-05-20': {'color': '#d6e685', 'count': 1},\n",
       "   '2018-05-21': {'color': '#d6e685', 'count': 1},\n",
       "   '2018-05-25': {'color': '#b8d971', 'count': 3},\n",
       "   '2018-05-27': {'color': '#d6e685', 'count': 1},\n",
       "   '2018-05-29': {'color': '#b8d971', 'count': 3},\n",
       "   '2018-05-30': {'color': '#b8d971', 'count': 4},\n",
       "   '2018-05-31': {'color': '#d6e685', 'count': 2},\n",
       "   '2018-06-01': {'color': '#8cc665', 'count': 5},\n",
       "   '2018-06-02': {'color': '#d6e685', 'count': 2},\n",
       "   '2018-06-03': {'color': '#8cc665', 'count': 6},\n",
       "   '2018-06-04': {'color': '#b8d971', 'count': 3},\n",
       "   '2018-06-05': {'color': '#b8d971', 'count': 4},\n",
       "   '2018-06-06': {'color': '#d6e685', 'count': 2},\n",
       "   '2018-06-07': {'color': '#d6e685', 'count': 1},\n",
       "   '2018-06-08': {'color': '#d6e685', 'count': 1},\n",
       "   '2018-06-10': {'color': '#d6e685', 'count': 2},\n",
       "   '2018-06-11': {'color': '#d6e685', 'count': 1},\n",
       "   '2018-06-12': {'color': '#d6e685', 'count': 2},\n",
       "   '2018-06-17': {'color': '#d6e685', 'count': 2},\n",
       "   '2018-06-18': {'color': '#d6e685', 'count': 1},\n",
       "   '2018-06-19': {'color': '#d6e685', 'count': 1},\n",
       "   '2018-06-23': {'color': '#d6e685', 'count': 2},\n",
       "   '2018-06-24': {'color': '#d6e685', 'count': 1},\n",
       "   '2018-06-25': {'color': '#d6e685', 'count': 1},\n",
       "   '2018-06-26': {'color': '#d6e685', 'count': 1},\n",
       "   '2018-06-27': {'color': '#d6e685', 'count': 1},\n",
       "   '2018-06-29': {'color': '#d6e685', 'count': 1},\n",
       "   '2018-07-01': {'color': '#d6e685', 'count': 2},\n",
       "   '2018-07-02': {'color': '#b8d971', 'count': 4},\n",
       "   '2018-07-04': {'color': '#d6e685', 'count': 2},\n",
       "   '2018-07-09': {'color': '#d6e685', 'count': 1},\n",
       "   '2018-07-14': {'color': '#d6e685', 'count': 1},\n",
       "   '2018-07-15': {'color': '#b8d971', 'count': 3},\n",
       "   '2018-07-16': {'color': '#d6e685', 'count': 2},\n",
       "   '2018-07-17': {'color': '#d6e685', 'count': 1},\n",
       "   '2018-07-18': {'color': '#d6e685', 'count': 1},\n",
       "   '2018-07-19': {'color': '#d6e685', 'count': 1},\n",
       "   '2018-07-20': {'color': '#8cc665', 'count': 6},\n",
       "   '2018-07-21': {'color': '#8cc665', 'count': 5},\n",
       "   '2018-07-22': {'color': '#b8d971', 'count': 3},\n",
       "   '2018-07-23': {'color': '#d6e685', 'count': 1},\n",
       "   '2018-07-24': {'color': '#b8d971', 'count': 3},\n",
       "   '2018-07-25': {'color': '#d6e685', 'count': 1},\n",
       "   '2018-07-26': {'color': '#d6e685', 'count': 2},\n",
       "   '2018-07-27': {'color': '#b8d971', 'count': 4},\n",
       "   '2018-07-28': {'color': '#d6e685', 'count': 2},\n",
       "   '2018-07-29': {'color': '#1e6823', 'count': 8},\n",
       "   '2018-07-30': {'color': '#b8d971', 'count': 4},\n",
       "   '2018-08-01': {'color': '#d6e685', 'count': 1},\n",
       "   '2018-08-02': {'color': '#b8d971', 'count': 3},\n",
       "   '2018-08-03': {'color': '#d6e685', 'count': 2},\n",
       "   '2018-08-04': {'color': '#d6e685', 'count': 1},\n",
       "   '2018-08-10': {'color': '#d6e685', 'count': 2},\n",
       "   '2018-08-11': {'color': '#d6e685', 'count': 1},\n",
       "   '2018-08-12': {'color': '#d6e685', 'count': 2},\n",
       "   '2018-08-13': {'color': '#d6e685', 'count': 1},\n",
       "   '2018-08-15': {'color': '#d6e685', 'count': 1},\n",
       "   '2018-08-20': {'color': '#d6e685', 'count': 2},\n",
       "   '2018-08-21': {'color': '#d6e685', 'count': 1},\n",
       "   '2018-08-22': {'color': '#d6e685', 'count': 1},\n",
       "   '2018-08-23': {'color': '#d6e685', 'count': 1},\n",
       "   '2018-08-25': {'color': '#d6e685', 'count': 1},\n",
       "   '2018-08-26': {'color': '#d6e685', 'count': 1},\n",
       "   '2018-08-27': {'color': '#d6e685', 'count': 1},\n",
       "   '2018-08-28': {'color': '#d6e685', 'count': 1},\n",
       "   '2018-08-29': {'color': '#d6e685', 'count': 2}},\n",
       "  'activity_history_total': 183,\n",
       "  'favourite_genres': {'Action': 119,\n",
       "   'Adventure': 54,\n",
       "   'Comedy': 153,\n",
       "   'Drama': 101,\n",
       "   'Fantasy': 72,\n",
       "   'Mystery': 45,\n",
       "   'Romance': 102,\n",
       "   'Sci-Fi': 62,\n",
       "   'Slice of Life': 62,\n",
       "   'Supernatural': 74},\n",
       "  'list_scores': {'anime': {'mean': 62, 'standard_deviation': 19},\n",
       "   'manga': {'mean': 64, 'standard_deviation': 22}},\n",
       "  'score_distribution': {'anime': {'10': 0,\n",
       "    '100': 0,\n",
       "    '20': 0,\n",
       "    '30': 0,\n",
       "    '40': 72,\n",
       "    '50': 0,\n",
       "    '60': 117,\n",
       "    '70': 0,\n",
       "    '80': 0,\n",
       "    '90': 106},\n",
       "   'manga': {'10': 0,\n",
       "    '100': 0,\n",
       "    '20': 0,\n",
       "    '30': 1,\n",
       "    '40': 1,\n",
       "    '50': 2,\n",
       "    '60': 4,\n",
       "    '70': 0,\n",
       "    '80': 0,\n",
       "    '90': 6}},\n",
       "  'status_distribution': {'anime': {'completed': 247,\n",
       "    'dropped': 35,\n",
       "    'on-hold': 15,\n",
       "    'plan to watch': 66,\n",
       "    'watching': 2},\n",
       "   'manga': {'completed': 4,\n",
       "    'dropped': 4,\n",
       "    'on-hold': 8,\n",
       "    'plan to read': 8,\n",
       "    'reading': 1}}},\n",
       " 'title_language': 'romaji',\n",
       " 'updated_at': 1535499872}"
      ]
     },
     "execution_count": 90,
     "metadata": {},
     "output_type": "execute_result"
    }
   ],
   "source": [
    "name=str(1)\n",
    "url='https://anilist.co/api/'\n",
    "cid='selzla-6acux'    \n",
    "sec='eGi4fmsY9pV64E1fSTWJJ1'\n",
    "params={'grant_type':\"client_credentials\",'client_id':cid,'client_secret':sec}\n",
    "access=requests.post(url+'auth/access_token',data=params)\n",
    "access_token=access.json()['access_token']\n"
   ]
  },
  {
   "cell_type": "code",
   "execution_count": 101,
   "metadata": {},
   "outputs": [
    {
     "data": {
      "text/plain": [
       "{'about': '[PSN ](https://my.playstation.com/powersonic19)\\n[Steam ](http://steamcommunity.com/profiles/76561198107675942)\\n[Youtube Channel ](http://www.youtube.com/user/powersonic19)',\n",
       " 'adult_content': False,\n",
       " 'advanced_rating': False,\n",
       " 'advanced_rating_names': [],\n",
       " 'airing_notifications': 1,\n",
       " 'anime_time': 198070,\n",
       " 'custom_list_anime': [],\n",
       " 'custom_list_manga': [],\n",
       " 'display_name': 'powersonic19',\n",
       " 'donator': 0,\n",
       " 'following': False,\n",
       " 'forum_homepage': 0,\n",
       " 'id': 170000,\n",
       " 'image_url_banner': 'https://cdn.anilist.co/img/dir/userbanner/n170000-Ex7bbTXh7BBg.png',\n",
       " 'image_url_lge': 'https://cdn.anilist.co/img/dir/user/reg/n170000-1s1lRQQBb5Jh.png',\n",
       " 'image_url_med': 'https://cdn.anilist.co/img/dir/user/sml/n170000-1s1lRQQBb5Jh.png',\n",
       " 'legacy_lists': False,\n",
       " 'list_order': 0,\n",
       " 'manga_chap': 177,\n",
       " 'notifications': 6,\n",
       " 'score_type': 4,\n",
       " 'stats': {'activity_history': {'2018-07-30': {'color': '#b8d971', 'count': 3},\n",
       "   '2018-07-31': {'color': '#8cc665', 'count': 6},\n",
       "   '2018-08-03': {'color': '#d6e685', 'count': 2},\n",
       "   '2018-08-06': {'color': '#8cc665', 'count': 4},\n",
       "   '2018-08-13': {'color': '#44a340', 'count': 7},\n",
       "   '2018-08-19': {'color': '#8cc665', 'count': 4},\n",
       "   '2018-08-20': {'color': '#d6e685', 'count': 1},\n",
       "   '2018-08-23': {'color': '#d6e685', 'count': 1},\n",
       "   '2018-08-25': {'color': '#b8d971', 'count': 3},\n",
       "   '2018-08-26': {'color': '#d6e685', 'count': 1},\n",
       "   '2018-08-27': {'color': '#d6e685', 'count': 1}},\n",
       "  'activity_history_total': 183,\n",
       "  'favourite_genres': {'Action': 248,\n",
       "   'Adventure': 78,\n",
       "   'Comedy': 359,\n",
       "   'Drama': 102,\n",
       "   'Ecchi': 145,\n",
       "   'Fantasy': 159,\n",
       "   'Romance': 213,\n",
       "   'Sci-Fi': 104,\n",
       "   'Slice of Life': 100,\n",
       "   'Supernatural': 136},\n",
       "  'list_scores': {'anime': {'mean': 77, 'standard_deviation': 12},\n",
       "   'manga': {'mean': 80, 'standard_deviation': 14}},\n",
       "  'score_distribution': {'anime': {'10': 0,\n",
       "    '100': 34,\n",
       "    '20': 0,\n",
       "    '30': 0,\n",
       "    '40': 5,\n",
       "    '50': 25,\n",
       "    '60': 51,\n",
       "    '70': 148,\n",
       "    '80': 210,\n",
       "    '90': 114},\n",
       "   'manga': {'10': 0,\n",
       "    '100': 0,\n",
       "    '20': 0,\n",
       "    '30': 0,\n",
       "    '40': 0,\n",
       "    '50': 0,\n",
       "    '60': 0,\n",
       "    '70': 1,\n",
       "    '80': 0,\n",
       "    '90': 1}},\n",
       "  'status_distribution': {'anime': {'completed': 528,\n",
       "    'dropped': 51,\n",
       "    'on-hold': 47,\n",
       "    'plan to watch': 97,\n",
       "    'watching': 1},\n",
       "   'manga': {'completed': 1,\n",
       "    'dropped': 0,\n",
       "    'on-hold': 0,\n",
       "    'plan to read': 24,\n",
       "    'reading': 4}}},\n",
       " 'title_language': 'romaji',\n",
       " 'updated_at': 1535491366}"
      ]
     },
     "execution_count": 101,
     "metadata": {},
     "output_type": "execute_result"
    }
   ],
   "source": [
    "name=str(170000)\n",
    "user=requests.get(url+'user/'+name+'?access_token='+access_token)\n",
    "user.json()"
   ]
  },
  {
   "cell_type": "code",
   "execution_count": 74,
   "metadata": {},
   "outputs": [],
   "source": [
    "def get_data(name):\n",
    "    url='https://anilist.co/api/'\n",
    "    cid='selzla-6acux'    \n",
    "    sec='eGi4fmsY9pV64E1fSTWJJ1'\n",
    "    params={'grant_type':\"client_credentials\",'client_id':cid,'client_secret':sec}\n",
    "    access=requests.post(url+'auth/access_token',data=params)\n",
    "    access_token=access.json()['access_token']\n",
    "    user_anime=requests.get(url+'user/'+name+'/animelist?access_token='+access_token)\n",
    "    user=user_anime.json()['display_name']\n",
    "    completed = user_anime.json()['lists']['completed']\n",
    "    series_ratings=[]\n",
    "    for i in range(len(completed)):\n",
    "        series_id=completed[i]['anime']['id']\n",
    "        series_title=completed[i]['anime']['title_english']\n",
    "        score=completed[i]['score_raw']\n",
    "        series_ratings.append([series_id,series_title,score])\n",
    "    return series_ratings\n",
    "        \n",
    "\n"
   ]
  },
  {
   "cell_type": "code",
   "execution_count": 104,
   "metadata": {
    "scrolled": true
   },
   "outputs": [
    {
     "data": {
      "text/plain": [
       "[[97637, 'New Game! Watashi, Shain Ryokou tte Hajimete na node…', 100],\n",
       " [21202, \"KONOSUBA -God's blessing on this wonderful world!\", 100],\n",
       " [189, 'Love Hina', 80],\n",
       " [248, 'Strawberry 100%', 70],\n",
       " [263, 'Fighting Spirit', 90],\n",
       " [584, 'Noein: To Your Other Self', 80],\n",
       " [1535, 'Death Note', 90],\n",
       " [1575, 'Code Geass: Lelouch of the Rebellion', 80],\n",
       " [4382, 'The Melancholy of Haruhi Suzumiya (2009)', 90],\n",
       " [5680, 'K-ON!', 80],\n",
       " [6547, 'Angel Beats!', 70],\n",
       " [8074, 'High School of the Dead', 60],\n",
       " [8769, 'OreImo', 60],\n",
       " [9253, 'Steins;Gate', 90],\n",
       " [9756, 'Puella Magi Madoka Magica', 90],\n",
       " [11843, 'Daily Lives of High School Boys', 80],\n",
       " [16742,\n",
       "  \"Watamote: No Matter How I Look at It, It’s You Guys' Fault I’m Not Popular\",\n",
       "  80],\n",
       " [19315, 'Pupa', 50],\n",
       " [20613, 'Akame ga Kill!', 70],\n",
       " [21087, 'One Punch Man', 90],\n",
       " [21355, 'Re:ZERO -Starting Life in Another World-', 80],\n",
       " [21455, 'New Game!', 80],\n",
       " [97716, 'Tawawa on Monday', 70],\n",
       " [14811, 'GJ Club', 70],\n",
       " [20923, 'Food Wars! Shokugeki no Soma', 100],\n",
       " [21518, 'Food Wars! The Second Plate', 10],\n",
       " [98702, 'Shokugeki no Souma: Ni no Sara OVA', 100],\n",
       " [21051, 'NANBAKA', 80],\n",
       " [98314, 'Kakegurui', 80],\n",
       " [99726, 'Recovery of an MMO Junkie', 80],\n",
       " [100684, 'Recovery of an MMO Junkie OVA', 90],\n",
       " [20607, 'Ping Pong the Animation', 90],\n",
       " [265, 'Fighting Spirit: Mashiba vs. Kimura', 90],\n",
       " [14353, 'Death Billiards', 80],\n",
       " [21049, 'ReLife', 90]]"
      ]
     },
     "execution_count": 104,
     "metadata": {},
     "output_type": "execute_result"
    }
   ],
   "source": [
    "get_data('SeLzla')"
   ]
  }
 ],
 "metadata": {
  "kernelspec": {
   "display_name": "Python 3",
   "language": "python",
   "name": "python3"
  },
  "language_info": {
   "codemirror_mode": {
    "name": "ipython",
    "version": 3
   },
   "file_extension": ".py",
   "mimetype": "text/x-python",
   "name": "python",
   "nbconvert_exporter": "python",
   "pygments_lexer": "ipython3",
   "version": "3.6.4"
  }
 },
 "nbformat": 4,
 "nbformat_minor": 2
}
