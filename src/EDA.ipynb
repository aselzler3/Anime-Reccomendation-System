{
 "cells": [
  {
   "cell_type": "code",
   "execution_count": 27,
   "metadata": {
    "collapsed": true
   },
   "outputs": [],
   "source": [
    "import pyspark\n",
    "from pyspark.sql import SparkSession\n",
    "import numpy as np\n",
    "import pandas as pd\n",
    "from pyspark.ml.recommendation import ALS\n",
    "from pyspark.sql.types import *\n",
    "import matplotlib.pyplot as plt\n",
    "plt.style.use(\"ggplot\")"
   ]
  },
  {
   "cell_type": "code",
   "execution_count": 28,
   "metadata": {
    "collapsed": true
   },
   "outputs": [],
   "source": [
    "spark = SparkSession.builder.master(\"local[2]\").getOrCreate()\n",
    "sc = spark.sparkContext"
   ]
  },
  {
   "cell_type": "code",
   "execution_count": 41,
   "metadata": {
    "collapsed": false
   },
   "outputs": [
    {
     "name": "stdout",
     "output_type": "stream",
     "text": [
      "root\n",
      " |-- username: integer (nullable = true)\n",
      " |-- anime_id: integer (nullable = true)\n",
      " |-- score: float (nullable = true)\n",
      "\n"
     ]
    }
   ],
   "source": [
    "df=spark.read.csv(\"data/completed.csv\", header=True)\n",
    "df=df.select(df['username'].cast('int'),df['anime_id'].cast('int'),df['score'].cast('float'))\n",
    "df=df.na.drop()\n",
    "df.printSchema()"
   ]
  },
  {
   "cell_type": "code",
   "execution_count": 42,
   "metadata": {
    "collapsed": false
   },
   "outputs": [
    {
     "name": "stdout",
     "output_type": "stream",
     "text": [
      "+--------+--------+-----+\n",
      "|username|anime_id|score|\n",
      "+--------+--------+-----+\n",
      "|       1|       1| 60.0|\n",
      "|       1|      30| 85.0|\n",
      "|       1|      32| 85.0|\n",
      "|       1|      79| 60.0|\n",
      "|       1|     226| 35.0|\n",
      "|       1|     227| 60.0|\n",
      "|       1|     339| 60.0|\n",
      "|       1|     356| 60.0|\n",
      "|       1|     433| 35.0|\n",
      "|       1|     759| 85.0|\n",
      "|       1|     770| 85.0|\n",
      "|       1|     889| 60.0|\n",
      "|       1|    1195| 60.0|\n",
      "|       1|    1535| 60.0|\n",
      "|       1|    1575| 60.0|\n",
      "|       1|    1689| 85.0|\n",
      "|       1|    1943| 85.0|\n",
      "|       1|    2001| 60.0|\n",
      "|       1|    2167| 35.0|\n",
      "|       1|    2236| 60.0|\n",
      "+--------+--------+-----+\n",
      "only showing top 20 rows\n",
      "\n"
     ]
    }
   ],
   "source": [
    "df.show()\n"
   ]
  },
  {
   "cell_type": "code",
   "execution_count": 43,
   "metadata": {
    "collapsed": false
   },
   "outputs": [
    {
     "name": "stdout",
     "output_type": "stream",
     "text": [
      "+-------+-----------------+-----------------+------------------+\n",
      "|summary|         username|         anime_id|             score|\n",
      "+-------+-----------------+-----------------+------------------+\n",
      "|  count|          6294391|          6294391|           6294391|\n",
      "|   mean|33073.78466590334|9977.269728556743|  56.6542702860372|\n",
      "| stddev|28598.69684457577|8720.462189791226|35.259854390094766|\n",
      "|    min|                1|                1|               0.0|\n",
      "|    max|            96981|            99217|             255.0|\n",
      "+-------+-----------------+-----------------+------------------+\n",
      "\n"
     ]
    }
   ],
   "source": [
    "df.describe().show()"
   ]
  },
  {
   "cell_type": "code",
   "execution_count": 44,
   "metadata": {
    "collapsed": false
   },
   "outputs": [],
   "source": [
    "als_model = ALS(\n",
    "    itemCol='anime_id',\n",
    "    userCol='username',\n",
    "    ratingCol='score',\n",
    "    nonnegative=True,\n",
    "    regParam=0.1,\n",
    "    rank=10\n",
    ")"
   ]
  },
  {
   "cell_type": "code",
   "execution_count": 45,
   "metadata": {
    "collapsed": false
   },
   "outputs": [],
   "source": [
    "recommender = als_model.fit(df)"
   ]
  },
  {
   "cell_type": "code",
   "execution_count": 46,
   "metadata": {
    "collapsed": true
   },
   "outputs": [],
   "source": [
    "test_input = df.select(df['username'],df['anime_id'])"
   ]
  },
  {
   "cell_type": "code",
   "execution_count": 51,
   "metadata": {
    "collapsed": false
   },
   "outputs": [
    {
     "name": "stdout",
     "output_type": "stream",
     "text": [
      "+--------+--------+----------+--------+--------+-----+\n",
      "|username|anime_id|prediction|username|anime_id|score|\n",
      "+--------+--------+----------+--------+--------+-----+\n",
      "|       3|   10020| 43.870415|       3|   10020| 87.0|\n",
      "|       4|     457| 83.419914|       4|     457|100.0|\n",
      "|       5|    3298| 80.556885|       5|    3298| 80.0|\n",
      "|       6|     117| 79.384995|       6|     117| 90.0|\n",
      "|       7|    3229|  64.27373|       7|    3229| 70.0|\n",
      "|       7|   10448|  53.21048|       7|   10448| 60.0|\n",
      "|       7|   17074|   88.6501|       7|   17074| 99.0|\n",
      "|       8|    9062| 82.154755|       8|    9062| 90.0|\n",
      "|       8|    9690| 67.959625|       8|    9690| 80.0|\n",
      "|       8|   10012|  86.81378|       8|   10012| 70.0|\n",
      "|       9|    6937| 30.523195|       9|    6937| 50.0|\n",
      "|      11|     889|  75.30633|      11|     889| 80.0|\n",
      "|      11|    1142|  83.54273|      11|    1142|100.0|\n",
      "|      13|     462| 60.253754|      13|     462| 60.0|\n",
      "|      13|    1254| 77.298515|      13|    1254| 50.0|\n",
      "|      13|    1325|  70.05292|      13|    1325| 60.0|\n",
      "|      13|   10715|  72.11627|      13|   10715| 60.0|\n",
      "|      14|    1401|  74.83783|      14|    1401| 80.0|\n",
      "|      14|    8422| 62.620754|      14|    8422| 60.0|\n",
      "|      14|   10604|  67.37237|      14|   10604| 60.0|\n",
      "+--------+--------+----------+--------+--------+-----+\n",
      "only showing top 20 rows\n",
      "\n"
     ]
    }
   ],
   "source": [
    "predictions = recommender.transform(test_input)\n",
    "predictions = predictions.join(df, (predictions.username==df.username) & (predictions.anime_id==df.anime_id))\n",
    "predictions.show()"
   ]
  },
  {
   "cell_type": "code",
   "execution_count": null,
   "metadata": {
    "collapsed": true
   },
   "outputs": [],
   "source": []
  }
 ],
 "metadata": {
  "kernelspec": {
   "display_name": "Python 2",
   "language": "python",
   "name": "python2"
  },
  "language_info": {
   "codemirror_mode": {
    "name": "ipython",
    "version": 2
   },
   "file_extension": ".py",
   "mimetype": "text/x-python",
   "name": "python",
   "nbconvert_exporter": "python",
   "pygments_lexer": "ipython2",
   "version": "2.7.13"
  }
 },
 "nbformat": 4,
 "nbformat_minor": 2
}
