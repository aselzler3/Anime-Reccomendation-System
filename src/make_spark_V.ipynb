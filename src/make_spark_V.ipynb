{
 "cells": [
  {
   "cell_type": "code",
   "execution_count": 2,
   "metadata": {
    "collapsed": true
   },
   "outputs": [],
   "source": [
    "import pyspark\n",
    "from pyspark.sql import SparkSession\n",
    "import numpy as np\n",
    "import pandas as pd\n",
    "from pyspark.ml.recommendation import ALS\n",
    "from pyspark.sql.types import *\n",
    "import matplotlib.pyplot as plt\n",
    "plt.style.use(\"ggplot\")"
   ]
  },
  {
   "cell_type": "code",
   "execution_count": 3,
   "metadata": {
    "collapsed": true
   },
   "outputs": [],
   "source": [
    "spark = SparkSession.builder.master(\"local[2]\").getOrCreate()\n",
    "sc = spark.sparkContext"
   ]
  },
  {
   "cell_type": "code",
   "execution_count": 53,
   "metadata": {
    "collapsed": false
   },
   "outputs": [
    {
     "name": "stdout",
     "output_type": "stream",
     "text": [
      "root\n",
      " |-- username: integer (nullable = true)\n",
      " |-- anime_id: integer (nullable = true)\n",
      " |-- score: float (nullable = true)\n",
      "\n",
      "+--------+--------+-----+\n",
      "|username|anime_id|score|\n",
      "+--------+--------+-----+\n",
      "|       1|       1| 60.0|\n",
      "|       1|      30| 85.0|\n",
      "|       1|      32| 85.0|\n",
      "|       1|      79| 60.0|\n",
      "|       1|     226| 35.0|\n",
      "|       1|     227| 60.0|\n",
      "|       1|     339| 60.0|\n",
      "|       1|     356| 60.0|\n",
      "|       1|     433| 35.0|\n",
      "|       1|     759| 85.0|\n",
      "|       1|     770| 85.0|\n",
      "|       1|     889| 60.0|\n",
      "|       1|    1195| 60.0|\n",
      "|       1|    1535| 60.0|\n",
      "|       1|    1575| 60.0|\n",
      "|       1|    1689| 85.0|\n",
      "|       1|    1943| 85.0|\n",
      "|       1|    2001| 60.0|\n",
      "|       1|    2167| 35.0|\n",
      "|       1|    2236| 60.0|\n",
      "+--------+--------+-----+\n",
      "only showing top 20 rows\n",
      "\n"
     ]
    }
   ],
   "source": [
    "df=spark.read.csv(\"data/completed.csv\", header=True)\n",
    "df=df.select(df['username'].cast('int'),df['anime_id'].cast('int'),df['score'].cast('float'))\n",
    "df=df.na.drop()\n",
    "df.printSchema()\n",
    "\n",
    "df.createOrReplaceTempView(\"table\")\n",
    "df = spark.sql('''\n",
    "    select username, anime_id, case\n",
    "        when score = 0\n",
    "            then 74\n",
    "        when score > 100 \n",
    "            then 100\n",
    "        else score\n",
    "    end \n",
    "    as score\n",
    "    from table    \n",
    "    ''')\n",
    "df.show()"
   ]
  },
  {
   "cell_type": "code",
   "execution_count": 54,
   "metadata": {
    "collapsed": false
   },
   "outputs": [
    {
     "name": "stdout",
     "output_type": "stream",
     "text": [
      "+-------+-----------------+-----------------+----------------+\n",
      "|summary|         username|         anime_id|           score|\n",
      "+-------+-----------------+-----------------+----------------+\n",
      "|  count|          6294391|          6294391|         6294391|\n",
      "|   mean|33073.78466590334|9977.269728556743|73.9951499676458|\n",
      "| stddev|28598.69684457631| 8720.46218979115|15.6648785756638|\n",
      "|    min|                1|                1|             1.0|\n",
      "|    max|            96981|            99217|           100.0|\n",
      "+-------+-----------------+-----------------+----------------+\n",
      "\n"
     ]
    }
   ],
   "source": [
    "df.describe().show()"
   ]
  },
  {
   "cell_type": "code",
   "execution_count": null,
   "metadata": {
    "collapsed": false
   },
   "outputs": [],
   "source": []
  },
  {
   "cell_type": "code",
   "execution_count": null,
   "metadata": {
    "collapsed": false
   },
   "outputs": [],
   "source": []
  },
  {
   "cell_type": "code",
   "execution_count": 55,
   "metadata": {
    "collapsed": false
   },
   "outputs": [
    {
     "name": "stdout",
     "output_type": "stream",
     "text": [
      "+--------+--------+-------------------+-----------------+-----------------+\n",
      "|username|anime_id|              score|     avg_for_user|     avg_for_show|\n",
      "+--------+--------+-------------------+-----------------+-----------------+\n",
      "|   62311|    7311| -109.5495594240275|98.53333333333333|86.01622609069418|\n",
      "|   62311|   21087|-106.39378408973963|98.53333333333333| 82.8604507564063|\n",
      "|   20306|   11061| -98.98285483519365|95.58282208588957|87.40003274930407|\n",
      "|   79373|    5114| -96.89014445053942|92.46666666666667|88.42347778387274|\n",
      "|   50237|   11061| -95.35807470734602|91.95804195804196|87.40003274930407|\n",
      "|    2221|    2001| -95.08034025223333|94.20454545454545|84.87579479768786|\n",
      "|   59693|   18617| -94.99803493989955|99.16820702402957|79.82982791586998|\n",
      "|   77043|    1535|  -94.5094758316107|86.88888888888889|82.62058694272181|\n",
      "|   72606|   16498| -94.35678005451916|96.65917602996255|81.69760402455661|\n",
      "|   56981|     205| -93.52434473469208| 95.4090909090909|82.11525382560117|\n",
      "|    8461|   20850| -93.48541384944781|96.23529411764706|72.25011973180077|\n",
      "|    8462|   20850| -93.48541384944781|96.23529411764706|72.25011973180077|\n",
      "|   70369|   18179|  -93.1361445443527|89.46153846153847|78.67460608281422|\n",
      "|   42066|    9756| -93.09150164473118|94.38818565400844|82.70331599072274|\n",
      "|   28884|    1689|  -92.6956156524949|98.30188679245283|78.39372886004205|\n",
      "|    1561|    5114| -92.62347778387274|             88.2|88.42347778387274|\n",
      "|   61055|   20665|  -92.6107737137117|92.58917835671343|84.02159535699825|\n",
      "|   19248|    9989| -92.52937943535946|94.07142857142857|82.45795086393089|\n",
      "|   79615|   21629| -92.45817191283294|           92.825|74.63317191283294|\n",
      "|   57905|    5081|  -92.4548810637445|84.41071428571429| 83.0441667780302|\n",
      "+--------+--------+-------------------+-----------------+-----------------+\n",
      "only showing top 20 rows\n",
      "\n"
     ]
    }
   ],
   "source": [
    "df.createOrReplaceTempView(\"table\")\n",
    "df = spark.sql('''\n",
    "    with avg_u as (\n",
    "    select username, avg(score) as avg_for_user\n",
    "    from table\n",
    "    group by username\n",
    "    ), \n",
    "    avg_s as (\n",
    "    select anime_id, avg(score) as avg_for_show\n",
    "    from table \n",
    "    group by anime_id\n",
    "    )\n",
    "    select t.username, t.anime_id, t.score-avg_u.avg_for_user-avg_s.avg_for_show+74 as score, \n",
    "    avg_u.avg_for_user, avg_s.avg_for_show\n",
    "    from table t \n",
    "    join avg_u \n",
    "    on t.username = avg_u.username\n",
    "    join avg_s\n",
    "    on t.anime_id = avg_s.anime_id\n",
    "    order by score\n",
    "    ''')\n",
    "df.show()"
   ]
  },
  {
   "cell_type": "code",
   "execution_count": 57,
   "metadata": {
    "collapsed": false
   },
   "outputs": [],
   "source": [
    "df_train, df_test = df.randomSplit([0.8, 0.2])\n",
    "# print df_train.count()\n",
    "# print df_test.count()"
   ]
  },
  {
   "cell_type": "code",
   "execution_count": 59,
   "metadata": {
    "collapsed": false
   },
   "outputs": [
    {
     "name": "stdout",
     "output_type": "stream",
     "text": [
      "+--------+--------+-------------------+-----------------+-----------------+\n",
      "|username|anime_id|              score|     avg_for_user|     avg_for_show|\n",
      "+--------+--------+-------------------+-----------------+-----------------+\n",
      "|   62311|    7311| -109.5495594240275|98.53333333333333|86.01622609069418|\n",
      "|   62311|   21087|-106.39378408973963|98.53333333333333| 82.8604507564063|\n",
      "|   20306|   11061| -98.98285483519365|95.58282208588957|87.40003274930407|\n",
      "|   79373|    5114| -96.89014445053942|92.46666666666667|88.42347778387274|\n",
      "|   50237|   11061| -95.35807470734602|91.95804195804196|87.40003274930407|\n",
      "|    2221|    2001| -95.08034025223333|94.20454545454545|84.87579479768786|\n",
      "|   59693|   18617| -94.99803493989955|99.16820702402957|79.82982791586998|\n",
      "|   77043|    1535|  -94.5094758316107|86.88888888888889|82.62058694272181|\n",
      "|   72606|   16498| -94.35678005451916|96.65917602996255|81.69760402455661|\n",
      "|   56981|     205| -93.52434473469208| 95.4090909090909|82.11525382560117|\n",
      "|    8461|   20850| -93.48541384944781|96.23529411764706|72.25011973180077|\n",
      "|    8462|   20850| -93.48541384944781|96.23529411764706|72.25011973180077|\n",
      "|   70369|   18179|  -93.1361445443527|89.46153846153847|78.67460608281422|\n",
      "|   42066|    9756| -93.09150164473118|94.38818565400844|82.70331599072274|\n",
      "|   28884|    1689|  -92.6956156524949|98.30188679245283|78.39372886004205|\n",
      "|    1561|    5114| -92.62347778387274|             88.2|88.42347778387274|\n",
      "|   61055|   20665|  -92.6107737137117|92.58917835671343|84.02159535699825|\n",
      "|   19248|    9989| -92.52937943535946|94.07142857142857|82.45795086393089|\n",
      "|   79615|   21629| -92.45817191283294|           92.825|74.63317191283294|\n",
      "|   57905|    5081|  -92.4548810637445|84.41071428571429| 83.0441667780302|\n",
      "+--------+--------+-------------------+-----------------+-----------------+\n",
      "only showing top 20 rows\n",
      "\n"
     ]
    }
   ],
   "source": [
    "df.show()\n"
   ]
  },
  {
   "cell_type": "code",
   "execution_count": 56,
   "metadata": {
    "collapsed": false
   },
   "outputs": [
    {
     "name": "stdout",
     "output_type": "stream",
     "text": [
      "+-------+-----------------+-----------------+--------------------+-----------------+-----------------+\n",
      "|summary|         username|         anime_id|               score|     avg_for_user|     avg_for_show|\n",
      "+-------+-----------------+-----------------+--------------------+-----------------+-----------------+\n",
      "|  count|          6294391|          6294391|             6294391|          6294391|          6294391|\n",
      "|   mean|33073.78466590334|9977.269728556743|0.004850032354201449|73.99514996764594|73.99514996764623|\n",
      "| stddev|28598.69684457595|8720.462189791144|  11.988280360490846|8.542675692901128|6.180221605247429|\n",
      "|    min|                1|                1|  -109.5495594240275|              1.0|              5.0|\n",
      "|    max|            96981|            99217|   99.69836901121305|            100.0|            100.0|\n",
      "+-------+-----------------+-----------------+--------------------+-----------------+-----------------+\n",
      "\n"
     ]
    }
   ],
   "source": [
    "df.describe().show()"
   ]
  },
  {
   "cell_type": "code",
   "execution_count": 64,
   "metadata": {
    "collapsed": false
   },
   "outputs": [],
   "source": [
    "als_model = ALS(\n",
    "    itemCol='anime_id',\n",
    "    userCol='username',\n",
    "    ratingCol='score',\n",
    "    nonnegative=False,\n",
    "    regParam=0.2,\n",
    "    rank=10\n",
    ")"
   ]
  },
  {
   "cell_type": "code",
   "execution_count": 65,
   "metadata": {
    "collapsed": false
   },
   "outputs": [],
   "source": [
    "recommender = als_model.fit(df)"
   ]
  },
  {
   "cell_type": "code",
   "execution_count": 8,
   "metadata": {
    "collapsed": true
   },
   "outputs": [],
   "source": [
    "test_input = df_test.select(df_test['username'],df_test['anime_id'])"
   ]
  },
  {
   "cell_type": "code",
   "execution_count": 9,
   "metadata": {
    "collapsed": false
   },
   "outputs": [
    {
     "name": "stdout",
     "output_type": "stream",
     "text": [
      "+--------+--------+----------+--------+--------+-----+\n",
      "|username|anime_id|prediction|username|anime_id|score|\n",
      "+--------+--------+----------+--------+--------+-----+\n",
      "|       5|    3298| 80.556885|       5|    3298| 80.0|\n",
      "|       6|     117| 79.384995|       6|     117| 90.0|\n",
      "|       8|    9062| 82.154755|       8|    9062| 90.0|\n",
      "|      13|     462| 60.253754|      13|     462| 60.0|\n",
      "|      14|    1401|  74.83783|      14|    1401| 80.0|\n",
      "|      20|   18295| 12.973517|      20|   18295|  0.0|\n",
      "|      24|    6288| 47.840836|      24|    6288| 30.0|\n",
      "|      38|   11597|  80.29285|      38|   11597| 90.0|\n",
      "|      40|    2759|  73.63997|      40|    2759| 90.0|\n",
      "|      40|    7059| 47.791058|      40|    7059| 50.0|\n",
      "|      40|    9379|  58.88542|      40|    9379| 70.0|\n",
      "|      40|   10790|  54.79515|      40|   10790| 50.0|\n",
      "|      48|   17725|  65.07671|      48|   17725| 70.0|\n",
      "|      51|     514|  65.74366|      51|     514| 70.0|\n",
      "|      54|    2970| 49.763332|      54|    2970| 50.0|\n",
      "|      56|    7193| 82.641235|      56|    7193| 90.0|\n",
      "|      68|   10162|  83.95013|      68|   10162| 90.0|\n",
      "|      76|    3572|  75.32788|      76|    3572| 71.0|\n",
      "|      87|    5941|  84.85763|      87|    5941|100.0|\n",
      "|      90|   20626|  75.14227|      90|   20626|  0.0|\n",
      "+--------+--------+----------+--------+--------+-----+\n",
      "only showing top 20 rows\n",
      "\n"
     ]
    }
   ],
   "source": [
    "predictions = recommender.transform(test_input)\n",
    "predictions = predictions.join(df_test, (predictions.username==df_test.username) & (predictions.anime_id==df_test.anime_id))\n",
    "predictions.show()"
   ]
  },
  {
   "cell_type": "code",
   "execution_count": 10,
   "metadata": {
    "collapsed": false,
    "scrolled": true
   },
   "outputs": [
    {
     "name": "stdout",
     "output_type": "stream",
     "text": [
      "+-------+------------------+------------------+\n",
      "|summary|        prediction|             score|\n",
      "+-------+------------------+------------------+\n",
      "|  count|           1261846|           1261846|\n",
      "|   mean|56.629538468743775|56.609954780535816|\n",
      "| stddev|  30.2918992290304| 35.27210721221575|\n",
      "|    min|               0.0|               0.0|\n",
      "|    max|          310.9843|             255.0|\n",
      "+-------+------------------+------------------+\n",
      "\n"
     ]
    }
   ],
   "source": [
    "compare=predictions.select(predictions['prediction'], predictions['score'])\n",
    "compare=compare.na.fill(0)\n",
    "compare.describe().show()"
   ]
  },
  {
   "cell_type": "code",
   "execution_count": 11,
   "metadata": {
    "collapsed": false
   },
   "outputs": [
    {
     "name": "stdout",
     "output_type": "stream",
     "text": [
      "+------------------+\n",
      "|               MSE|\n",
      "+------------------+\n",
      "|276.69765411913437|\n",
      "+------------------+\n",
      "\n"
     ]
    }
   ],
   "source": [
    "compare.createOrReplaceTempView(\"Predictions\")\n",
    "result = spark.sql('''\n",
    "    SELECT AVG((prediction-score)*(prediction-score)) as MSE\n",
    "    FROM Predictions\n",
    "    ''')\n",
    "result.show()"
   ]
  },
  {
   "cell_type": "code",
   "execution_count": 13,
   "metadata": {
    "collapsed": false
   },
   "outputs": [
    {
     "data": {
      "text/plain": [
       "335.99033126098215"
      ]
     },
     "execution_count": 13,
     "metadata": {},
     "output_type": "execute_result"
    }
   ],
   "source": [
    "result.collect()[0][0]"
   ]
  },
  {
   "cell_type": "code",
   "execution_count": 66,
   "metadata": {
    "collapsed": true
   },
   "outputs": [],
   "source": [
    "U=sorted(recommender.userFactors.collect())"
   ]
  },
  {
   "cell_type": "code",
   "execution_count": 67,
   "metadata": {
    "collapsed": false
   },
   "outputs": [],
   "source": [
    "V=sorted(recommender.itemFactors.collect())"
   ]
  },
  {
   "cell_type": "code",
   "execution_count": 75,
   "metadata": {
    "collapsed": false
   },
   "outputs": [
    {
     "data": {
      "text/plain": [
       "Row(id=21742, features=[0.5803225040435791, 3.546067476272583, 1.9373228549957275, 0.3253227770328522, -4.630452632904053, 0.5513330101966858, -1.3241522312164307, 0.1322772055864334, -1.5392627716064453, 2.874828338623047])"
      ]
     },
     "execution_count": 75,
     "metadata": {},
     "output_type": "execute_result"
    }
   ],
   "source": [
    "V[9295]"
   ]
  },
  {
   "cell_type": "code",
   "execution_count": 69,
   "metadata": {
    "collapsed": true
   },
   "outputs": [],
   "source": [
    "import csv"
   ]
  },
  {
   "cell_type": "code",
   "execution_count": 70,
   "metadata": {
    "collapsed": false
   },
   "outputs": [],
   "source": [
    "with open('spark_V.csv', 'w') as csv_file:\n",
    "    c1=csv.writer(csv_file, delimiter=',')\n",
    "    c1.writerow(['col1','col2','col3','col4','col5','col6','col7','col8','col9','col10'])\n",
    "    csv_file.close()"
   ]
  },
  {
   "cell_type": "code",
   "execution_count": 71,
   "metadata": {
    "collapsed": false
   },
   "outputs": [],
   "source": [
    "with open('id_mapping.csv', 'w') as csv_file:\n",
    "    c1=csv.writer(csv_file, delimiter=',')\n",
    "    c1.writerow(['col1'])\n",
    "    csv_file.close()"
   ]
  },
  {
   "cell_type": "code",
   "execution_count": 73,
   "metadata": {
    "collapsed": true
   },
   "outputs": [],
   "source": [
    "with open('spark_V.csv', 'a') as csv_file:\n",
    "    c1=csv.writer(csv_file, delimiter=',')\n",
    "    for i in range(len(V)):\n",
    "        c1.writerow(V[i][1])\n",
    "    csv_file.close()\n",
    "    "
   ]
  },
  {
   "cell_type": "code",
   "execution_count": 74,
   "metadata": {
    "collapsed": false
   },
   "outputs": [],
   "source": [
    "with open('id_mapping.csv', 'a') as csv_file:\n",
    "    c1=csv.writer(csv_file, delimiter=',')\n",
    "    for i in range(len(V)):\n",
    "        c1.writerow([V[i][0]])\n",
    "    csv_file.close()"
   ]
  },
  {
   "cell_type": "code",
   "execution_count": 62,
   "metadata": {
    "collapsed": true
   },
   "outputs": [],
   "source": [
    "def grid_search_plot():\n",
    "    x_axis=[]\n",
    "    y_axis=[]\n",
    "    for k in range(1,10):\n",
    "        x_axis.append(0.2*k)\n",
    "        als_model = ALS(\n",
    "            itemCol='anime_id',\n",
    "            userCol='username',\n",
    "            ratingCol='score',\n",
    "            nonnegative=True,\n",
    "            regParam=0.2*k,\n",
    "            rank=10\n",
    "        )\n",
    "        recommender = als_model.fit(df_train)\n",
    "        test_input = df_test.select(df_test['username'],df_test['anime_id'])\n",
    "        predictions = recommender.transform(test_input)\n",
    "        predictions = predictions.join(df_test, (predictions.username==df_test.username) & (predictions.anime_id==df_test.anime_id))\n",
    "        compare=predictions.select(predictions['prediction'], predictions['score'])\n",
    "        compare=compare.na.fill(0)\n",
    "        compare.createOrReplaceTempView(\"Predictions\")\n",
    "        result = spark.sql('''\n",
    "            SELECT AVG((prediction-score)*(prediction-score)) as MSE\n",
    "            FROM Predictions\n",
    "            ''')\n",
    "        MSE=result.collect()[0][0]\n",
    "        y_axis.append(MSE)\n",
    "        print k, MSE\n",
    "    x_axis=np.array(x_axis)\n",
    "    y_axis=np.array(y_axis)\n",
    "    fig, ax = plt.subplots()\n",
    "    ax.plot(x_axis, y_axis)\n",
    "    plt.show()\n"
   ]
  },
  {
   "cell_type": "code",
   "execution_count": 63,
   "metadata": {
    "collapsed": false
   },
   "outputs": [
    {
     "name": "stdout",
     "output_type": "stream",
     "text": [
      "1 126.904492457\n",
      "2 127.644800272\n",
      "3 129.331293189\n",
      "4 130.969570868\n",
      "5 132.596936604\n"
     ]
    },
    {
     "ename": "KeyboardInterrupt",
     "evalue": "",
     "output_type": "error",
     "traceback": [
      "\u001b[0;31m---------------------------------------------------------------------------\u001b[0m",
      "\u001b[0;31mKeyboardInterrupt\u001b[0m                         Traceback (most recent call last)",
      "\u001b[0;32m<ipython-input-63-67c75bd84d51>\u001b[0m in \u001b[0;36m<module>\u001b[0;34m()\u001b[0m\n\u001b[0;32m----> 1\u001b[0;31m \u001b[0mgrid_search_plot\u001b[0m\u001b[0;34m(\u001b[0m\u001b[0;34m)\u001b[0m\u001b[0;34m\u001b[0m\u001b[0m\n\u001b[0m",
      "\u001b[0;32m<ipython-input-62-314e66d2f7ae>\u001b[0m in \u001b[0;36mgrid_search_plot\u001b[0;34m()\u001b[0m\n\u001b[1;32m     12\u001b[0m             \u001b[0mrank\u001b[0m\u001b[0;34m=\u001b[0m\u001b[0;36m10\u001b[0m\u001b[0;34m\u001b[0m\u001b[0m\n\u001b[1;32m     13\u001b[0m         )\n\u001b[0;32m---> 14\u001b[0;31m         \u001b[0mrecommender\u001b[0m \u001b[0;34m=\u001b[0m \u001b[0mals_model\u001b[0m\u001b[0;34m.\u001b[0m\u001b[0mfit\u001b[0m\u001b[0;34m(\u001b[0m\u001b[0mdf_train\u001b[0m\u001b[0;34m)\u001b[0m\u001b[0;34m\u001b[0m\u001b[0m\n\u001b[0m\u001b[1;32m     15\u001b[0m         \u001b[0mtest_input\u001b[0m \u001b[0;34m=\u001b[0m \u001b[0mdf_test\u001b[0m\u001b[0;34m.\u001b[0m\u001b[0mselect\u001b[0m\u001b[0;34m(\u001b[0m\u001b[0mdf_test\u001b[0m\u001b[0;34m[\u001b[0m\u001b[0;34m'username'\u001b[0m\u001b[0;34m]\u001b[0m\u001b[0;34m,\u001b[0m\u001b[0mdf_test\u001b[0m\u001b[0;34m[\u001b[0m\u001b[0;34m'anime_id'\u001b[0m\u001b[0;34m]\u001b[0m\u001b[0;34m)\u001b[0m\u001b[0;34m\u001b[0m\u001b[0m\n\u001b[1;32m     16\u001b[0m         \u001b[0mpredictions\u001b[0m \u001b[0;34m=\u001b[0m \u001b[0mrecommender\u001b[0m\u001b[0;34m.\u001b[0m\u001b[0mtransform\u001b[0m\u001b[0;34m(\u001b[0m\u001b[0mtest_input\u001b[0m\u001b[0;34m)\u001b[0m\u001b[0;34m\u001b[0m\u001b[0m\n",
      "\u001b[0;32m/home/andrew/spark-2.1.1-bin-hadoop2.3/python/pyspark/ml/base.pyc\u001b[0m in \u001b[0;36mfit\u001b[0;34m(self, dataset, params)\u001b[0m\n\u001b[1;32m     62\u001b[0m                 \u001b[0;32mreturn\u001b[0m \u001b[0mself\u001b[0m\u001b[0;34m.\u001b[0m\u001b[0mcopy\u001b[0m\u001b[0;34m(\u001b[0m\u001b[0mparams\u001b[0m\u001b[0;34m)\u001b[0m\u001b[0;34m.\u001b[0m\u001b[0m_fit\u001b[0m\u001b[0;34m(\u001b[0m\u001b[0mdataset\u001b[0m\u001b[0;34m)\u001b[0m\u001b[0;34m\u001b[0m\u001b[0m\n\u001b[1;32m     63\u001b[0m             \u001b[0;32melse\u001b[0m\u001b[0;34m:\u001b[0m\u001b[0;34m\u001b[0m\u001b[0m\n\u001b[0;32m---> 64\u001b[0;31m                 \u001b[0;32mreturn\u001b[0m \u001b[0mself\u001b[0m\u001b[0;34m.\u001b[0m\u001b[0m_fit\u001b[0m\u001b[0;34m(\u001b[0m\u001b[0mdataset\u001b[0m\u001b[0;34m)\u001b[0m\u001b[0;34m\u001b[0m\u001b[0m\n\u001b[0m\u001b[1;32m     65\u001b[0m         \u001b[0;32melse\u001b[0m\u001b[0;34m:\u001b[0m\u001b[0;34m\u001b[0m\u001b[0m\n\u001b[1;32m     66\u001b[0m             raise ValueError(\"Params must be either a param map or a list/tuple of param maps, \"\n",
      "\u001b[0;32m/home/andrew/spark-2.1.1-bin-hadoop2.3/python/pyspark/ml/wrapper.pyc\u001b[0m in \u001b[0;36m_fit\u001b[0;34m(self, dataset)\u001b[0m\n\u001b[1;32m    234\u001b[0m \u001b[0;34m\u001b[0m\u001b[0m\n\u001b[1;32m    235\u001b[0m     \u001b[0;32mdef\u001b[0m \u001b[0m_fit\u001b[0m\u001b[0;34m(\u001b[0m\u001b[0mself\u001b[0m\u001b[0;34m,\u001b[0m \u001b[0mdataset\u001b[0m\u001b[0;34m)\u001b[0m\u001b[0;34m:\u001b[0m\u001b[0;34m\u001b[0m\u001b[0m\n\u001b[0;32m--> 236\u001b[0;31m         \u001b[0mjava_model\u001b[0m \u001b[0;34m=\u001b[0m \u001b[0mself\u001b[0m\u001b[0;34m.\u001b[0m\u001b[0m_fit_java\u001b[0m\u001b[0;34m(\u001b[0m\u001b[0mdataset\u001b[0m\u001b[0;34m)\u001b[0m\u001b[0;34m\u001b[0m\u001b[0m\n\u001b[0m\u001b[1;32m    237\u001b[0m         \u001b[0;32mreturn\u001b[0m \u001b[0mself\u001b[0m\u001b[0;34m.\u001b[0m\u001b[0m_create_model\u001b[0m\u001b[0;34m(\u001b[0m\u001b[0mjava_model\u001b[0m\u001b[0;34m)\u001b[0m\u001b[0;34m\u001b[0m\u001b[0m\n\u001b[1;32m    238\u001b[0m \u001b[0;34m\u001b[0m\u001b[0m\n",
      "\u001b[0;32m/home/andrew/spark-2.1.1-bin-hadoop2.3/python/pyspark/ml/wrapper.pyc\u001b[0m in \u001b[0;36m_fit_java\u001b[0;34m(self, dataset)\u001b[0m\n\u001b[1;32m    231\u001b[0m         \"\"\"\n\u001b[1;32m    232\u001b[0m         \u001b[0mself\u001b[0m\u001b[0;34m.\u001b[0m\u001b[0m_transfer_params_to_java\u001b[0m\u001b[0;34m(\u001b[0m\u001b[0;34m)\u001b[0m\u001b[0;34m\u001b[0m\u001b[0m\n\u001b[0;32m--> 233\u001b[0;31m         \u001b[0;32mreturn\u001b[0m \u001b[0mself\u001b[0m\u001b[0;34m.\u001b[0m\u001b[0m_java_obj\u001b[0m\u001b[0;34m.\u001b[0m\u001b[0mfit\u001b[0m\u001b[0;34m(\u001b[0m\u001b[0mdataset\u001b[0m\u001b[0;34m.\u001b[0m\u001b[0m_jdf\u001b[0m\u001b[0;34m)\u001b[0m\u001b[0;34m\u001b[0m\u001b[0m\n\u001b[0m\u001b[1;32m    234\u001b[0m \u001b[0;34m\u001b[0m\u001b[0m\n\u001b[1;32m    235\u001b[0m     \u001b[0;32mdef\u001b[0m \u001b[0m_fit\u001b[0m\u001b[0;34m(\u001b[0m\u001b[0mself\u001b[0m\u001b[0;34m,\u001b[0m \u001b[0mdataset\u001b[0m\u001b[0;34m)\u001b[0m\u001b[0;34m:\u001b[0m\u001b[0;34m\u001b[0m\u001b[0m\n",
      "\u001b[0;32m/home/andrew/anaconda2/lib/python2.7/site-packages/py4j/java_gateway.pyc\u001b[0m in \u001b[0;36m__call__\u001b[0;34m(self, *args)\u001b[0m\n\u001b[1;32m   1150\u001b[0m             \u001b[0mproto\u001b[0m\u001b[0;34m.\u001b[0m\u001b[0mEND_COMMAND_PART\u001b[0m\u001b[0;34m\u001b[0m\u001b[0m\n\u001b[1;32m   1151\u001b[0m \u001b[0;34m\u001b[0m\u001b[0m\n\u001b[0;32m-> 1152\u001b[0;31m         \u001b[0manswer\u001b[0m \u001b[0;34m=\u001b[0m \u001b[0mself\u001b[0m\u001b[0;34m.\u001b[0m\u001b[0mgateway_client\u001b[0m\u001b[0;34m.\u001b[0m\u001b[0msend_command\u001b[0m\u001b[0;34m(\u001b[0m\u001b[0mcommand\u001b[0m\u001b[0;34m)\u001b[0m\u001b[0;34m\u001b[0m\u001b[0m\n\u001b[0m\u001b[1;32m   1153\u001b[0m         return_value = get_return_value(\n\u001b[1;32m   1154\u001b[0m             answer, self.gateway_client, self.target_id, self.name)\n",
      "\u001b[0;32m/home/andrew/anaconda2/lib/python2.7/site-packages/py4j/java_gateway.pyc\u001b[0m in \u001b[0;36msend_command\u001b[0;34m(self, command, retry, binary)\u001b[0m\n\u001b[1;32m    900\u001b[0m         \u001b[0mconnection\u001b[0m \u001b[0;34m=\u001b[0m \u001b[0mself\u001b[0m\u001b[0;34m.\u001b[0m\u001b[0m_get_connection\u001b[0m\u001b[0;34m(\u001b[0m\u001b[0;34m)\u001b[0m\u001b[0;34m\u001b[0m\u001b[0m\n\u001b[1;32m    901\u001b[0m         \u001b[0;32mtry\u001b[0m\u001b[0;34m:\u001b[0m\u001b[0;34m\u001b[0m\u001b[0m\n\u001b[0;32m--> 902\u001b[0;31m             \u001b[0mresponse\u001b[0m \u001b[0;34m=\u001b[0m \u001b[0mconnection\u001b[0m\u001b[0;34m.\u001b[0m\u001b[0msend_command\u001b[0m\u001b[0;34m(\u001b[0m\u001b[0mcommand\u001b[0m\u001b[0;34m)\u001b[0m\u001b[0;34m\u001b[0m\u001b[0m\n\u001b[0m\u001b[1;32m    903\u001b[0m             \u001b[0;32mif\u001b[0m \u001b[0mbinary\u001b[0m\u001b[0;34m:\u001b[0m\u001b[0;34m\u001b[0m\u001b[0m\n\u001b[1;32m    904\u001b[0m                 \u001b[0;32mreturn\u001b[0m \u001b[0mresponse\u001b[0m\u001b[0;34m,\u001b[0m \u001b[0mself\u001b[0m\u001b[0;34m.\u001b[0m\u001b[0m_create_connection_guard\u001b[0m\u001b[0;34m(\u001b[0m\u001b[0mconnection\u001b[0m\u001b[0;34m)\u001b[0m\u001b[0;34m\u001b[0m\u001b[0m\n",
      "\u001b[0;32m/home/andrew/anaconda2/lib/python2.7/site-packages/py4j/java_gateway.pyc\u001b[0m in \u001b[0;36msend_command\u001b[0;34m(self, command)\u001b[0m\n\u001b[1;32m   1047\u001b[0m \u001b[0;34m\u001b[0m\u001b[0m\n\u001b[1;32m   1048\u001b[0m         \u001b[0;32mtry\u001b[0m\u001b[0;34m:\u001b[0m\u001b[0;34m\u001b[0m\u001b[0m\n\u001b[0;32m-> 1049\u001b[0;31m             \u001b[0manswer\u001b[0m \u001b[0;34m=\u001b[0m \u001b[0msmart_decode\u001b[0m\u001b[0;34m(\u001b[0m\u001b[0mself\u001b[0m\u001b[0;34m.\u001b[0m\u001b[0mstream\u001b[0m\u001b[0;34m.\u001b[0m\u001b[0mreadline\u001b[0m\u001b[0;34m(\u001b[0m\u001b[0;34m)\u001b[0m\u001b[0;34m[\u001b[0m\u001b[0;34m:\u001b[0m\u001b[0;34m-\u001b[0m\u001b[0;36m1\u001b[0m\u001b[0;34m]\u001b[0m\u001b[0;34m)\u001b[0m\u001b[0;34m\u001b[0m\u001b[0m\n\u001b[0m\u001b[1;32m   1050\u001b[0m             \u001b[0mlogger\u001b[0m\u001b[0;34m.\u001b[0m\u001b[0mdebug\u001b[0m\u001b[0;34m(\u001b[0m\u001b[0;34m\"Answer received: {0}\"\u001b[0m\u001b[0;34m.\u001b[0m\u001b[0mformat\u001b[0m\u001b[0;34m(\u001b[0m\u001b[0manswer\u001b[0m\u001b[0;34m)\u001b[0m\u001b[0;34m)\u001b[0m\u001b[0;34m\u001b[0m\u001b[0m\n\u001b[1;32m   1051\u001b[0m             \u001b[0;32mif\u001b[0m \u001b[0manswer\u001b[0m\u001b[0;34m.\u001b[0m\u001b[0mstartswith\u001b[0m\u001b[0;34m(\u001b[0m\u001b[0mproto\u001b[0m\u001b[0;34m.\u001b[0m\u001b[0mRETURN_MESSAGE\u001b[0m\u001b[0;34m)\u001b[0m\u001b[0;34m:\u001b[0m\u001b[0;34m\u001b[0m\u001b[0m\n",
      "\u001b[0;32m/home/andrew/anaconda2/lib/python2.7/socket.pyc\u001b[0m in \u001b[0;36mreadline\u001b[0;34m(self, size)\u001b[0m\n\u001b[1;32m    449\u001b[0m             \u001b[0;32mwhile\u001b[0m \u001b[0mTrue\u001b[0m\u001b[0;34m:\u001b[0m\u001b[0;34m\u001b[0m\u001b[0m\n\u001b[1;32m    450\u001b[0m                 \u001b[0;32mtry\u001b[0m\u001b[0;34m:\u001b[0m\u001b[0;34m\u001b[0m\u001b[0m\n\u001b[0;32m--> 451\u001b[0;31m                     \u001b[0mdata\u001b[0m \u001b[0;34m=\u001b[0m \u001b[0mself\u001b[0m\u001b[0;34m.\u001b[0m\u001b[0m_sock\u001b[0m\u001b[0;34m.\u001b[0m\u001b[0mrecv\u001b[0m\u001b[0;34m(\u001b[0m\u001b[0mself\u001b[0m\u001b[0;34m.\u001b[0m\u001b[0m_rbufsize\u001b[0m\u001b[0;34m)\u001b[0m\u001b[0;34m\u001b[0m\u001b[0m\n\u001b[0m\u001b[1;32m    452\u001b[0m                 \u001b[0;32mexcept\u001b[0m \u001b[0merror\u001b[0m\u001b[0;34m,\u001b[0m \u001b[0me\u001b[0m\u001b[0;34m:\u001b[0m\u001b[0;34m\u001b[0m\u001b[0m\n\u001b[1;32m    453\u001b[0m                     \u001b[0;32mif\u001b[0m \u001b[0me\u001b[0m\u001b[0;34m.\u001b[0m\u001b[0margs\u001b[0m\u001b[0;34m[\u001b[0m\u001b[0;36m0\u001b[0m\u001b[0;34m]\u001b[0m \u001b[0;34m==\u001b[0m \u001b[0mEINTR\u001b[0m\u001b[0;34m:\u001b[0m\u001b[0;34m\u001b[0m\u001b[0m\n",
      "\u001b[0;31mKeyboardInterrupt\u001b[0m: "
     ]
    }
   ],
   "source": [
    "grid_search_plot()"
   ]
  },
  {
   "cell_type": "code",
   "execution_count": 42,
   "metadata": {
    "collapsed": false
   },
   "outputs": [
    {
     "name": "stdout",
     "output_type": "stream",
     "text": [
      "16 336.734638183\n",
      "17 337.97129506\n",
      "18 337.254028785\n",
      "19 338.254838945\n"
     ]
    },
    {
     "data": {
      "image/png": "[encoded data removed]",
      "text/plain": [
       "<matplotlib.figure.Figure at 0x7fba4cc4e750>"
      ]
     },
     "metadata": {},
     "output_type": "display_data"
    }
   ],
   "source": [
    "x_axis=[3,4,5,6,7,8,9,10,11,12,13,14,15]\n",
    "y_axis=[351.43, 342.19, 341.69, 338.94, 337.297, 339.097, 337.71, 334.63, 335.54, 335.79, 335.77,335.462, 338.83]\n",
    "grid_search_plot(x_axis, y_axis)"
   ]
  },
  {
   "cell_type": "code",
   "execution_count": 76,
   "metadata": {
    "collapsed": false
   },
   "outputs": [
    {
     "name": "stdout",
     "output_type": "stream",
     "text": [
      "+--------+--------+-----+\n",
      "|username|anime_id|score|\n",
      "+--------+--------+-----+\n",
      "|       1|       1| 60.0|\n",
      "|       1|      30| 85.0|\n",
      "|       1|      32| 85.0|\n",
      "|       1|      79| 60.0|\n",
      "|       1|     226| 35.0|\n",
      "|       1|     227| 60.0|\n",
      "|       1|     339| 60.0|\n",
      "|       1|     356| 60.0|\n",
      "|       1|     433| 35.0|\n",
      "|       1|     759| 85.0|\n",
      "|       1|     770| 85.0|\n",
      "|       1|     889| 60.0|\n",
      "|       1|    1195| 60.0|\n",
      "|       1|    1535| 60.0|\n",
      "|       1|    1575| 60.0|\n",
      "|       1|    1689| 85.0|\n",
      "|       1|    1943| 85.0|\n",
      "|       1|    2001| 60.0|\n",
      "|       1|    2167| 35.0|\n",
      "|       1|    2236| 60.0|\n",
      "+--------+--------+-----+\n",
      "only showing top 20 rows\n",
      "\n"
     ]
    }
   ],
   "source": [
    "df1=spark.read.csv(\"data/completed.csv\", header=True)\n",
    "df1=df1.select(df1['username'].cast('int'),df1['anime_id'].cast('int'),df1['score'].cast('float'))\n",
    "df1=df1.na.drop()\n",
    "\n",
    "df1.createOrReplaceTempView(\"table1\")\n",
    "df1 = spark.sql('''\n",
    "    select username, anime_id, case\n",
    "        when score = 0\n",
    "            then 74\n",
    "        when score > 100 \n",
    "            then 100\n",
    "        else score\n",
    "    end \n",
    "    as score\n",
    "    from table    \n",
    "    ''')\n",
    "df1.show()"
   ]
  },
  {
   "cell_type": "code",
   "execution_count": 77,
   "metadata": {
    "collapsed": false
   },
   "outputs": [
    {
     "name": "stdout",
     "output_type": "stream",
     "text": [
      "+--------+-----------------+\n",
      "|anime_id|     avg_for_show|\n",
      "+--------+-----------------+\n",
      "|       1|85.09464373464374|\n",
      "|       5|80.69470198675496|\n",
      "|       6|79.88804945054945|\n",
      "|       7|71.70194003527337|\n",
      "|       8|70.01530612244898|\n",
      "|      15| 77.3578431372549|\n",
      "|      16| 79.7933010136624|\n",
      "|      17| 74.8395061728395|\n",
      "|      18|79.95949367088608|\n",
      "|      19|86.11089494163424|\n",
      "|      20|74.01059306229018|\n",
      "|      21|80.31979695431473|\n",
      "|      22|78.16957306073361|\n",
      "|      23|           68.675|\n",
      "|      24|77.70599666851749|\n",
      "|      25|72.29283771532185|\n",
      "|      26|77.75950349107835|\n",
      "|      27|71.87989417989418|\n",
      "|      28|77.38314944834504|\n",
      "|      29|            70.38|\n",
      "+--------+-----------------+\n",
      "only showing top 20 rows\n",
      "\n"
     ]
    }
   ],
   "source": [
    "df1.createOrReplaceTempView(\"table1\")\n",
    "result = spark.sql('''\n",
    "    select anime_id, avg(score) as avg_for_show\n",
    "    from table1\n",
    "    group by anime_id\n",
    "    order by anime_id\n",
    "    ''')\n",
    "result.show()"
   ]
  },
  {
   "cell_type": "code",
   "execution_count": 82,
   "metadata": {
    "collapsed": false
   },
   "outputs": [],
   "source": [
    "result.toPandas().to_csv('avg_show_R.csv')"
   ]
  }
 ],
 "metadata": {
  "kernelspec": {
   "display_name": "Python 2",
   "language": "python",
   "name": "python2"
  },
  "language_info": {
   "codemirror_mode": {
    "name": "ipython",
    "version": 2
   },
   "file_extension": ".py",
   "mimetype": "text/x-python",
   "name": "python",
   "nbconvert_exporter": "python",
   "pygments_lexer": "ipython2",
   "version": "2.7.13"
  }
 },
 "nbformat": 4,
 "nbformat_minor": 2
}
