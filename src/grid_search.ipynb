{
 "cells": [
  {
   "cell_type": "code",
   "execution_count": 1,
   "metadata": {
    "collapsed": true
   },
   "outputs": [],
   "source": [
    "import pyspark\n",
    "from pyspark.sql import SparkSession\n",
    "import numpy as np\n",
    "import pandas as pd\n",
    "from pyspark.ml.recommendation import ALS\n",
    "from pyspark.sql.types import *\n",
    "import matplotlib.pyplot as plt\n",
    "plt.style.use(\"ggplot\")"
   ]
  },
  {
   "cell_type": "code",
   "execution_count": 2,
   "metadata": {
    "collapsed": true
   },
   "outputs": [],
   "source": [
    "spark = SparkSession.builder.master(\"local[2]\").getOrCreate()\n",
    "sc = spark.sparkContext"
   ]
  },
  {
   "cell_type": "code",
   "execution_count": 3,
   "metadata": {
    "collapsed": false
   },
   "outputs": [
    {
     "name": "stdout",
     "output_type": "stream",
     "text": [
      "root\n",
      " |-- username: integer (nullable = true)\n",
      " |-- anime_id: integer (nullable = true)\n",
      " |-- score: float (nullable = true)\n",
      "\n"
     ]
    }
   ],
   "source": [
    "df=spark.read.csv(\"data/completed.csv\", header=True)\n",
    "df=df.select(df['username'].cast('int'),df['anime_id'].cast('int'),df['score'].cast('float'))\n",
    "df=df.na.drop()\n",
    "df.printSchema()"
   ]
  },
  {
   "cell_type": "code",
   "execution_count": 13,
   "metadata": {
    "collapsed": false
   },
   "outputs": [
    {
     "name": "stdout",
     "output_type": "stream",
     "text": [
      "5034356\n",
      "1260035\n"
     ]
    }
   ],
   "source": [
    "df_train, df_test = df.randomSplit([0.8, 0.2])\n",
    "print df_train.count()\n",
    "print df_test.count()"
   ]
  },
  {
   "cell_type": "code",
   "execution_count": 4,
   "metadata": {
    "collapsed": false
   },
   "outputs": [
    {
     "name": "stdout",
     "output_type": "stream",
     "text": [
      "+--------+--------+-----+\n",
      "|username|anime_id|score|\n",
      "+--------+--------+-----+\n",
      "|       1|       1| 60.0|\n",
      "|       1|      30| 85.0|\n",
      "|       1|      32| 85.0|\n",
      "|       1|      79| 60.0|\n",
      "|       1|     226| 35.0|\n",
      "|       1|     227| 60.0|\n",
      "|       1|     339| 60.0|\n",
      "|       1|     356| 60.0|\n",
      "|       1|     433| 35.0|\n",
      "|       1|     759| 85.0|\n",
      "|       1|     770| 85.0|\n",
      "|       1|     889| 60.0|\n",
      "|       1|    1195| 60.0|\n",
      "|       1|    1535| 60.0|\n",
      "|       1|    1575| 60.0|\n",
      "|       1|    1689| 85.0|\n",
      "|       1|    1943| 85.0|\n",
      "|       1|    2001| 60.0|\n",
      "|       1|    2167| 35.0|\n",
      "|       1|    2236| 60.0|\n",
      "+--------+--------+-----+\n",
      "only showing top 20 rows\n",
      "\n"
     ]
    }
   ],
   "source": [
    "df.show()\n"
   ]
  },
  {
   "cell_type": "code",
   "execution_count": 5,
   "metadata": {
    "collapsed": false
   },
   "outputs": [
    {
     "name": "stdout",
     "output_type": "stream",
     "text": [
      "+-------+-----------------+-----------------+------------------+\n",
      "|summary|         username|         anime_id|             score|\n",
      "+-------+-----------------+-----------------+------------------+\n",
      "|  count|          6294391|          6294391|           6294391|\n",
      "|   mean|33073.78466590334|9977.269728556743|  56.6542702860372|\n",
      "| stddev|28598.69684457577|8720.462189791226|35.259854390094766|\n",
      "|    min|                1|                1|               0.0|\n",
      "|    max|            96981|            99217|             255.0|\n",
      "+-------+-----------------+-----------------+------------------+\n",
      "\n"
     ]
    }
   ],
   "source": [
    "df.describe().show()"
   ]
  },
  {
   "cell_type": "code",
   "execution_count": 6,
   "metadata": {
    "collapsed": false
   },
   "outputs": [],
   "source": [
    "als_model = ALS(\n",
    "    itemCol='anime_id',\n",
    "    userCol='username',\n",
    "    ratingCol='score',\n",
    "    nonnegative=True,\n",
    "    regParam=0.1,\n",
    "    rank=10\n",
    ")"
   ]
  },
  {
   "cell_type": "code",
   "execution_count": 14,
   "metadata": {
    "collapsed": false
   },
   "outputs": [],
   "source": [
    "recommender = als_model.fit(df_train)"
   ]
  },
  {
   "cell_type": "code",
   "execution_count": 15,
   "metadata": {
    "collapsed": true
   },
   "outputs": [],
   "source": [
    "test_input = df_test.select(df_test['username'],df_test['anime_id'])"
   ]
  },
  {
   "cell_type": "code",
   "execution_count": 24,
   "metadata": {
    "collapsed": false
   },
   "outputs": [
    {
     "name": "stdout",
     "output_type": "stream",
     "text": [
      "+--------+--------+----------+--------+--------+-----+\n",
      "|username|anime_id|prediction|username|anime_id|score|\n",
      "+--------+--------+----------+--------+--------+-----+\n",
      "|       4|     457| 84.625854|       4|     457|100.0|\n",
      "|       7|   10448| 45.243324|       7|   10448| 60.0|\n",
      "|       8|    9690|  75.67179|       8|    9690| 80.0|\n",
      "|      13|    1254|   72.7676|      13|    1254| 50.0|\n",
      "|      13|   10715|  73.07674|      13|   10715| 60.0|\n",
      "|      14|    8422| 63.907085|      14|    8422| 60.0|\n",
      "|      15|   16035|  68.91614|      15|   16035| 70.0|\n",
      "|      20|     121| 2.6179876|      20|     121|  0.0|\n",
      "|      20|   18295| 11.374637|      20|   18295|  0.0|\n",
      "|      23|    5355|  60.52243|      23|    5355| 30.0|\n",
      "|      32|    4540| 52.538273|      32|    4540| 60.0|\n",
      "|      36|    1544|  65.17951|      36|    1544| 60.0|\n",
      "|      40|     597| 57.238167|      40|     597| 70.0|\n",
      "|      40|    9135| 60.635155|      40|    9135| 50.0|\n",
      "|      44|     357| 57.094296|      44|     357| 80.0|\n",
      "|      44|    5030|  67.89911|      44|    5030| 80.0|\n",
      "|      48|   12449|  36.33702|      48|   12449| 40.0|\n",
      "|      49|    6023| 59.959023|      49|    6023| 70.0|\n",
      "|      58|      32|  83.36856|      58|      32| 95.0|\n",
      "|      73|   15583|  83.66628|      73|   15583| 90.0|\n",
      "+--------+--------+----------+--------+--------+-----+\n",
      "only showing top 20 rows\n",
      "\n"
     ]
    }
   ],
   "source": [
    "predictions = recommender.transform(test_input)\n",
    "predictions = predictions.join(df_test, (predictions.username==df_test.username) & (predictions.anime_id==df_test.anime_id))\n",
    "predictions.show()"
   ]
  },
  {
   "cell_type": "code",
   "execution_count": 33,
   "metadata": {
    "collapsed": false
   },
   "outputs": [
    {
     "name": "stdout",
     "output_type": "stream",
     "text": [
      "+-------+------------------+------------------+\n",
      "|summary|        prediction|             score|\n",
      "+-------+------------------+------------------+\n",
      "|  count|           1264027|           1264027|\n",
      "|   mean|56.616472602271976|56.668744417642976|\n",
      "| stddev| 30.41843866590231|35.243079849121564|\n",
      "|    min|               0.0|               0.0|\n",
      "|    max|         733.15625|             255.0|\n",
      "+-------+------------------+------------------+\n",
      "\n"
     ]
    }
   ],
   "source": [
    "compare=predictions.select(predictions['prediction'], predictions['score'])\n",
    "compare=compare.na.fill(0)\n",
    "compare.describe().show()"
   ]
  },
  {
   "cell_type": "code",
   "execution_count": 34,
   "metadata": {
    "collapsed": false
   },
   "outputs": [
    {
     "name": "stdout",
     "output_type": "stream",
     "text": [
      "+----------------+\n",
      "|             MSE|\n",
      "+----------------+\n",
      "|334.629841923209|\n",
      "+----------------+\n",
      "\n"
     ]
    }
   ],
   "source": [
    "compare.createOrReplaceTempView(\"Predictions\")\n",
    "result = spark.sql('''\n",
    "    SELECT AVG((prediction-score)*(prediction-score)) as MSE\n",
    "    FROM Predictions\n",
    "    ''')\n",
    "result.show()"
   ]
  },
  {
   "cell_type": "code",
   "execution_count": 35,
   "metadata": {
    "collapsed": false
   },
   "outputs": [
    {
     "data": {
      "text/plain": [
       "334.629841923209"
      ]
     },
     "execution_count": 35,
     "metadata": {},
     "output_type": "execute_result"
    }
   ],
   "source": [
    "result.collect()[0][0]"
   ]
  },
  {
   "cell_type": "code",
   "execution_count": 41,
   "metadata": {
    "collapsed": true
   },
   "outputs": [],
   "source": [
    "def grid_search_plot(x_axis, y_axis):\n",
    "    for k in range(16,20):\n",
    "        x_axis.append(k)\n",
    "        als_model = ALS(\n",
    "            itemCol='anime_id',\n",
    "            userCol='username',\n",
    "            ratingCol='score',\n",
    "            nonnegative=True,\n",
    "            regParam=0.1,\n",
    "            rank=k\n",
    "        )\n",
    "        recommender = als_model.fit(df_train)\n",
    "        test_input = df_test.select(df_test['username'],df_test['anime_id'])\n",
    "        predictions = recommender.transform(test_input)\n",
    "        predictions = predictions.join(df_test, (predictions.username==df_test.username) & (predictions.anime_id==df_test.anime_id))\n",
    "        compare=predictions.select(predictions['prediction'], predictions['score'])\n",
    "        compare=compare.na.fill(0)\n",
    "        compare.createOrReplaceTempView(\"Predictions\")\n",
    "        result = spark.sql('''\n",
    "            SELECT AVG((prediction-score)*(prediction-score)) as MSE\n",
    "            FROM Predictions\n",
    "            ''')\n",
    "        MSE=result.collect()[0][0]\n",
    "        y_axis.append(MSE)\n",
    "        print k, MSE\n",
    "    x_axis=np.array(x_axis)\n",
    "    y_axis=np.array(y_axis)\n",
    "    fig, ax = plt.subplots()\n",
    "    ax.plot(x_axis, y_axis)\n",
    "    plt.show()\n"
   ]
  },
  {
   "cell_type": "code",
   "execution_count": 37,
   "metadata": {
    "collapsed": false
   },
   "outputs": [
    {
     "name": "stdout",
     "output_type": "stream",
     "text": [
      "3 351.443359554\n",
      "4 342.192922389\n",
      "5 341.690327737\n",
      "6 338.939099265\n",
      "7 337.296841067\n",
      "8 339.097513809\n",
      "9 337.708098652\n",
      "10 334.629841923\n",
      "11 335.543051397\n",
      "12 335.788521798\n",
      "13 335.768317317\n",
      "14 335.46277777\n",
      "15 338.829453661\n"
     ]
    },
    {
     "data": {
      "image/png": "[encoded data removed]",
      "text/plain": [
       "<matplotlib.figure.Figure at 0x7fba4cbe0450>"
      ]
     },
     "metadata": {},
     "output_type": "display_data"
    }
   ],
   "source": [
    "grid_search_plot()"
   ]
  },
  {
   "cell_type": "code",
   "execution_count": 42,
   "metadata": {
    "collapsed": false
   },
   "outputs": [
    {
     "name": "stdout",
     "output_type": "stream",
     "text": [
      "16 336.734638183\n",
      "17 337.97129506\n",
      "18 337.254028785\n",
      "19 338.254838945\n"
     ]
    },
    {
     "data": {
      "image/png": "[encoded data removed]",
      "text/plain": [
       "<matplotlib.figure.Figure at 0x7fba4cc4e750>"
      ]
     },
     "metadata": {},
     "output_type": "display_data"
    }
   ],
   "source": [
    "x_axis=[3,4,5,6,7,8,9,10,11,12,13,14,15]\n",
    "y_axis=[351.43, 342.19, 341.69, 338.94, 337.297, 339.097, 337.71, 334.63, 335.54, 335.79, 335.77,335.462, 338.83]\n",
    "grid_search_plot(x_axis, y_axis)"
   ]
  }
 ],
 "metadata": {
  "kernelspec": {
   "display_name": "Python 2",
   "language": "python",
   "name": "python2"
  },
  "language_info": {
   "codemirror_mode": {
    "name": "ipython",
    "version": 2
   },
   "file_extension": ".py",
   "mimetype": "text/x-python",
   "name": "python",
   "nbconvert_exporter": "python",
   "pygments_lexer": "ipython2",
   "version": "2.7.13"
  }
 },
 "nbformat": 4,
 "nbformat_minor": 2
}
