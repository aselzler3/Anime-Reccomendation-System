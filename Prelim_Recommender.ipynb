{
 "cells": [
  {
   "cell_type": "code",
   "execution_count": 44,
   "metadata": {
    "collapsed": true
   },
   "outputs": [],
   "source": [
    "from __future__ import division\n",
    "import pandas as pd\n",
    "import numpy as np\n",
    "from scipy.sparse import csr_matrix\n",
    "import requests\n",
    "import ast"
   ]
  },
  {
   "cell_type": "code",
   "execution_count": 45,
   "metadata": {
    "collapsed": false
   },
   "outputs": [
    {
     "name": "stdout",
     "output_type": "stream",
     "text": [
      "264\n"
     ]
    }
   ],
   "source": [
    "V_T_df=pd.read_csv('data/spark_V.csv')\n",
    "id_map=pd.read_csv('data/id_mapping.csv')\n",
    "avg_show=pd.read_csv('data/avg_show_R.csv')\n",
    "num_views=pd.read_csv('data/num_views.csv')\n",
    "print len(num_views[num_views['num_views']>5000])"
   ]
  },
  {
   "cell_type": "code",
   "execution_count": 46,
   "metadata": {
    "collapsed": false
   },
   "outputs": [],
   "source": [
    "item_mapping=np.array(id_map['col1'])"
   ]
  },
  {
   "cell_type": "code",
   "execution_count": 47,
   "metadata": {
    "collapsed": false
   },
   "outputs": [
    {
     "data": {
      "text/html": [
       "<div>\n",
       "<style>\n",
       "    .dataframe thead tr:only-child th {\n",
       "        text-align: right;\n",
       "    }\n",
       "\n",
       "    .dataframe thead th {\n",
       "        text-align: left;\n",
       "    }\n",
       "\n",
       "    .dataframe tbody tr th {\n",
       "        vertical-align: top;\n",
       "    }\n",
       "</style>\n",
       "<table border=\"1\" class=\"dataframe\">\n",
       "  <thead>\n",
       "    <tr style=\"text-align: right;\">\n",
       "      <th></th>\n",
       "      <th>Unnamed: 0</th>\n",
       "      <th>anime_id</th>\n",
       "      <th>avg_for_show</th>\n",
       "    </tr>\n",
       "  </thead>\n",
       "  <tbody>\n",
       "    <tr>\n",
       "      <th>0</th>\n",
       "      <td>0</td>\n",
       "      <td>1</td>\n",
       "      <td>85.094644</td>\n",
       "    </tr>\n",
       "    <tr>\n",
       "      <th>1</th>\n",
       "      <td>1</td>\n",
       "      <td>5</td>\n",
       "      <td>80.694702</td>\n",
       "    </tr>\n",
       "    <tr>\n",
       "      <th>2</th>\n",
       "      <td>2</td>\n",
       "      <td>6</td>\n",
       "      <td>79.888049</td>\n",
       "    </tr>\n",
       "    <tr>\n",
       "      <th>3</th>\n",
       "      <td>3</td>\n",
       "      <td>7</td>\n",
       "      <td>71.701940</td>\n",
       "    </tr>\n",
       "    <tr>\n",
       "      <th>4</th>\n",
       "      <td>4</td>\n",
       "      <td>8</td>\n",
       "      <td>70.015306</td>\n",
       "    </tr>\n",
       "    <tr>\n",
       "      <th>5</th>\n",
       "      <td>5</td>\n",
       "      <td>15</td>\n",
       "      <td>77.357843</td>\n",
       "    </tr>\n",
       "  </tbody>\n",
       "</table>\n",
       "</div>"
      ],
      "text/plain": [
       "   Unnamed: 0  anime_id  avg_for_show\n",
       "0           0         1     85.094644\n",
       "1           1         5     80.694702\n",
       "2           2         6     79.888049\n",
       "3           3         7     71.701940\n",
       "4           4         8     70.015306\n",
       "5           5        15     77.357843"
      ]
     },
     "execution_count": 47,
     "metadata": {},
     "output_type": "execute_result"
    }
   ],
   "source": [
    "avg_show.head(6)"
   ]
  },
  {
   "cell_type": "code",
   "execution_count": null,
   "metadata": {
    "collapsed": false
   },
   "outputs": [],
   "source": []
  },
  {
   "cell_type": "code",
   "execution_count": 48,
   "metadata": {
    "collapsed": false
   },
   "outputs": [],
   "source": [
    "url='https://anilist.co/api/'\n",
    "cid='selzla-6acux'\n",
    "sec='eGi4fmsY9pV64E1fSTWJJ1'\n",
    "username='Goldensunboy'\n",
    "params={'grant_type':\"client_credentials\",'client_id':cid,'client_secret':sec}\n",
    "access=requests.post(url+'auth/access_token',data=params)\n",
    "access_token=access.json()['access_token']"
   ]
  },
  {
   "cell_type": "code",
   "execution_count": 49,
   "metadata": {
    "collapsed": true
   },
   "outputs": [],
   "source": [
    "user_anime=requests.get(url+'user/'+username+'/animelist?access_token='+access_token)"
   ]
  },
  {
   "cell_type": "code",
   "execution_count": 50,
   "metadata": {
    "collapsed": false
   },
   "outputs": [],
   "source": [
    "completed = user_anime.json()['lists']['completed']\n",
    "\n",
    "if 'watching' in user_anime.json()['lists']:\n",
    "    watching = user_anime.json()['lists']['watching']\n",
    "else:\n",
    "    watching = []\n",
    "\n",
    "if 'dropped' in user_anime.json()['lists']:\n",
    "    dropped = user_anime.json()['lists']['dropped']\n",
    "else:\n",
    "    dropped = []\n",
    "\n",
    "if 'on_hold' in user_anime.json()['lists']:\n",
    "    on_hold = user_anime.json()['lists']['on_hold']\n",
    "else:\n",
    "    on_hold = []\n",
    "\n",
    "if 'plan_to_watch' in user_anime.json()['lists']:\n",
    "    plan_to_watch = user_anime.json()['lists']['plan_to_watch']\n",
    "else:\n",
    "    plan_to_watch = []"
   ]
  },
  {
   "cell_type": "code",
   "execution_count": 51,
   "metadata": {
    "collapsed": true
   },
   "outputs": [],
   "source": [
    "scores = []\n",
    "for i in range(len(completed)):\n",
    "    title=completed[i]['anime']['title_english'].encode(\"utf-8\")\n",
    "    anime_id=completed[i]['anime']['id']\n",
    "    score=completed[i]['score_raw']\n",
    "    scores.append([anime_id, score])"
   ]
  },
  {
   "cell_type": "code",
   "execution_count": 52,
   "metadata": {
    "collapsed": true
   },
   "outputs": [],
   "source": [
    "series_df=pd.read_csv('data/series_data.csv')"
   ]
  },
  {
   "cell_type": "code",
   "execution_count": 53,
   "metadata": {
    "collapsed": true
   },
   "outputs": [],
   "source": [
    "series_df['real_genres']=series_df['genres'].apply(lambda x: ast.literal_eval(x))"
   ]
  },
  {
   "cell_type": "code",
   "execution_count": 54,
   "metadata": {
    "collapsed": true
   },
   "outputs": [],
   "source": [
    "def isAdult(ID):\n",
    "    if len(list(series_df[series_df['id']==ID]['adult'])):\n",
    "        return list(series_df[series_df['id']==ID]['adult'])[0]\n",
    "    else:\n",
    "        return None"
   ]
  },
  {
   "cell_type": "code",
   "execution_count": 55,
   "metadata": {
    "collapsed": false
   },
   "outputs": [],
   "source": [
    "def hasGenre(ID, genre):\n",
    "    if len(list(series_df[series_df['id']==ID]['real_genres']))>0:\n",
    "        return genre in list(series_df[series_df['id']==ID]['real_genres'])[0]\n",
    "    else:\n",
    "        return None"
   ]
  },
  {
   "cell_type": "code",
   "execution_count": 56,
   "metadata": {
    "collapsed": false
   },
   "outputs": [],
   "source": [
    "def StartYear(ID):\n",
    "    if len(list(series_df[series_df['id']==ID]['start_date']))>0:\n",
    "        return int(list(series_df[series_df['id']==ID]['start_date'])[0][:4])\n",
    "    else:\n",
    "        return None"
   ]
  },
  {
   "cell_type": "code",
   "execution_count": 57,
   "metadata": {
    "collapsed": false
   },
   "outputs": [],
   "source": [
    "def numEpisodes(ID):\n",
    "    if len(list(series_df[series_df['id']==ID]['total_episodes']))>0:\n",
    "        return list(series_df[series_df['id']==ID]['total_episodes'])[0]\n",
    "    else: \n",
    "        return None"
   ]
  },
  {
   "cell_type": "code",
   "execution_count": 58,
   "metadata": {
    "collapsed": false
   },
   "outputs": [],
   "source": [
    "def Type(ID):\n",
    "    if len(list(series_df[series_df['id']==ID]['type']))>0:\n",
    "        return list(series_df[series_df['id']==ID]['type'])[0]\n",
    "    else:\n",
    "        return None"
   ]
  },
  {
   "cell_type": "code",
   "execution_count": 59,
   "metadata": {
    "collapsed": false
   },
   "outputs": [
    {
     "data": {
      "text/plain": [
       "10286"
      ]
     },
     "execution_count": 59,
     "metadata": {},
     "output_type": "execute_result"
    }
   ],
   "source": [
    "len(series_df)"
   ]
  },
  {
   "cell_type": "code",
   "execution_count": 60,
   "metadata": {
    "collapsed": false
   },
   "outputs": [],
   "source": [
    "titles={}\n",
    "for i in range(len(series_df)):\n",
    "    ID = series_df['id'][i]\n",
    "    title = series_df['title_english'][i]\n",
    "    titles[ID] = title\n"
   ]
  },
  {
   "cell_type": "code",
   "execution_count": 61,
   "metadata": {
    "collapsed": false
   },
   "outputs": [],
   "source": [
    "user=np.array([row for row in scores if row[0] in item_mapping])\n",
    "#user=np.array([[row[0]-1, row[1]] for row in user])\n",
    "# print user"
   ]
  },
  {
   "cell_type": "code",
   "execution_count": 62,
   "metadata": {
    "collapsed": false
   },
   "outputs": [
    {
     "data": {
      "text/plain": [
       "5"
      ]
     },
     "execution_count": 62,
     "metadata": {},
     "output_type": "execute_result"
    }
   ],
   "source": [
    "item_mapping[1]"
   ]
  },
  {
   "cell_type": "code",
   "execution_count": 63,
   "metadata": {
    "collapsed": false
   },
   "outputs": [
    {
     "name": "stdout",
     "output_type": "stream",
     "text": [
      "10 9856\n"
     ]
    }
   ],
   "source": [
    "V=np.array(V_T_df).T\n",
    "print V.shape[0], V.shape[1]"
   ]
  },
  {
   "cell_type": "code",
   "execution_count": 64,
   "metadata": {
    "collapsed": false
   },
   "outputs": [
    {
     "name": "stdout",
     "output_type": "stream",
     "text": [
      "80.6947019868\n"
     ]
    }
   ],
   "source": [
    "average_ratings={}\n",
    "for i in range(len(avg_show)):\n",
    "    average_ratings[avg_show['anime_id'][i]]=avg_show['avg_for_show'][i]\n",
    "print average_ratings[5]"
   ]
  },
  {
   "cell_type": "code",
   "execution_count": 65,
   "metadata": {
    "collapsed": false
   },
   "outputs": [],
   "source": [
    "user_vector = np.zeros(V.shape[1])\n",
    "for row in user:\n",
    "    user_vector[list(item_mapping).index(row[0])]=row[1]+74-np.mean(user[:,1])-average_ratings[row[0]]"
   ]
  },
  {
   "cell_type": "code",
   "execution_count": 66,
   "metadata": {
    "collapsed": false
   },
   "outputs": [],
   "source": [
    "new_user=user_vector[np.where(user_vector!=0)]\n",
    "new_V=V.T[np.where(user_vector!=0)].T\n",
    "s=np.linalg.lstsq(new_V.T,new_user.T)[0].T\n",
    "new_R=np.dot(s,V)\n",
    "for i in range(len(new_R)):\n",
    "    new_R[i]=new_R[i]+average_ratings[item_mapping[i]]+np.mean(user[:,1])-74"
   ]
  },
  {
   "cell_type": "code",
   "execution_count": 67,
   "metadata": {
    "collapsed": false
   },
   "outputs": [
    {
     "data": {
      "text/plain": [
       "array([ 92.16683725,  88.90079662,  86.52902103, ...,  91.89508825,\n",
       "        63.37480441,  79.60790391])"
      ]
     },
     "execution_count": 67,
     "metadata": {},
     "output_type": "execute_result"
    }
   ],
   "source": [
    "# print s\n",
    "# print V.T[list(new_R).index(max(new_R))]\n",
    "new_R"
   ]
  },
  {
   "cell_type": "code",
   "execution_count": 68,
   "metadata": {
    "collapsed": false
   },
   "outputs": [],
   "source": [
    "seen = [row[0] for row in scores]\n",
    "others = [watching, dropped, on_hold, plan_to_watch]\n",
    "for x in others:\n",
    "    for i in range(len(x)):\n",
    "        seen.append(x[i]['anime']['id'])"
   ]
  },
  {
   "cell_type": "code",
   "execution_count": 69,
   "metadata": {
    "collapsed": false
   },
   "outputs": [],
   "source": [
    "rec=np.argsort(-1*new_R)\n",
    "rec=[item_mapping[x] for x in rec] "
   ]
  },
  {
   "cell_type": "code",
   "execution_count": 70,
   "metadata": {
    "collapsed": false
   },
   "outputs": [
    {
     "name": "stdout",
     "output_type": "stream",
     "text": [
      "10175\n"
     ]
    }
   ],
   "source": [
    "popularity={}\n",
    "for x in np.array(num_views):\n",
    "    popularity[x[0]]=x[1]\n",
    "print popularity[1]"
   ]
  },
  {
   "cell_type": "code",
   "execution_count": 81,
   "metadata": {
    "collapsed": false
   },
   "outputs": [
    {
     "name": "stdout",
     "output_type": "stream",
     "text": [
      "21085 Ace of the Diamond: Second Season 97.0570086242\n",
      "21733 Descending Stories: Showa Genroku Rakugo Shinju 95.9351827391\n",
      "20996 Gintama° 95.2864041654\n",
      "20972 Showa Genroku Rakugo Shinju 95.2055841224\n",
      "11061 Hunter x Hunter (2011) 94.3050989755\n",
      "21450 JoJo's Bizarre Adventure: Diamond is Unbreakable 93.9763328919\n",
      "15417 Gintama': Enchousen 93.8382506392\n",
      "20664 Psycho-Pass Shin Henshuu-ban 93.7214272024\n",
      "30 Neon Genesis Evangelion 93.4804455441\n",
      "3297 Aria The Origination 92.8477576131\n",
      "13125 From the New World 92.6330465396\n",
      "17074 Monogatari Series: Second Season 92.5314012705\n",
      "20665 Your Lie in April 92.4972326385\n",
      "20717 Nobunaga Concerto 92.4154241876\n",
      "20595 MUSHI-SHI The Next Passage 92.3257781165\n",
      "7785 The Tatami Galaxy 92.1371284388\n"
     ]
    }
   ],
   "source": [
    "\n",
    "f_type = (True, 'TV')\n",
    "f_genres = (False, 'Slice of Life')\n",
    "f_year = (False, 2000, 2016)\n",
    "f_episodes = (False, 1, 100)\n",
    "f_adult = (False, False)\n",
    "f_popularity = (True, 300)\n",
    "count = 0\n",
    "for i in range(10000):\n",
    "    if rec[i] not in seen:\n",
    "        allowed = True\n",
    "        if f_popularity[0]:\n",
    "            if popularity[rec[i]]<f_popularity[1]:\n",
    "                allowed = False\n",
    "        if f_type[0]:\n",
    "            if Type(rec[i])!=f_type[1]:\n",
    "                allowed = False\n",
    "        if f_genres[0]:\n",
    "            if not hasGenre(rec[i], f_genres[1]):\n",
    "                allowed = False\n",
    "        if f_year[0]:\n",
    "            if StartYear(rec[i])<f_year[1] or StartYear(rec[i])>f_year[2]:\n",
    "                allowed = False\n",
    "        if f_episodes[0]:\n",
    "            if numEpisodes(rec[i])<f_episodes[1] or numEpisodes(rec[i])>f_episodes[2]:\n",
    "                allowed = False \n",
    "        if f_adult[0]:\n",
    "            if isAdult(rec[i])!=f_adult[1]:\n",
    "                allowed = False\n",
    "        if allowed:\n",
    "            print rec[i], titles[rec[i]], new_R[list(item_mapping).index(rec[i])]\n",
    "            count +=1 \n",
    "    if count>15:\n",
    "        break\n",
    "    \n",
    "    "
   ]
  },
  {
   "cell_type": "code",
   "execution_count": 72,
   "metadata": {
    "collapsed": false
   },
   "outputs": [
    {
     "name": "stdout",
     "output_type": "stream",
     "text": [
      "['Hentai', 'Sports', 'Comedy', 'Ecchi', 'Drama', 'Mystery', 'Romance', 'Supernatural', 'Fantasy', 'Mahou Shoujo', 'Slice of Life', 'Action', 'Mecha', 'Adventure', 'Sci-Fi', 'Music', '', 'Horror', 'Psychological', 'Thriller']\n"
     ]
    }
   ],
   "source": [
    "G = []\n",
    "for x in series_df['real_genres']:\n",
    "    for y in x:\n",
    "        if y not in G:\n",
    "            G.append(y)\n",
    "print G"
   ]
  },
  {
   "cell_type": "code",
   "execution_count": 73,
   "metadata": {
    "collapsed": false
   },
   "outputs": [
    {
     "data": {
      "text/plain": [
       "array([9827, 7417, 5219, ..., 9447, 7403, 9566])"
      ]
     },
     "execution_count": 73,
     "metadata": {},
     "output_type": "execute_result"
    }
   ],
   "source": [
    "np.argsort(-1*new_R)"
   ]
  },
  {
   "cell_type": "code",
   "execution_count": 74,
   "metadata": {
    "collapsed": false
   },
   "outputs": [
    {
     "data": {
      "text/plain": [
       "array([ 0.5803225 ,  3.54606748,  1.93732285,  0.32532278, -4.63045263,\n",
       "        0.55133301, -1.32415223,  0.13227721, -1.53926277,  2.87482834])"
      ]
     },
     "execution_count": 74,
     "metadata": {},
     "output_type": "execute_result"
    }
   ],
   "source": [
    "V.T[9295]"
   ]
  }
 ],
 "metadata": {
  "kernelspec": {
   "display_name": "Python 2",
   "language": "python",
   "name": "python2"
  },
  "language_info": {
   "codemirror_mode": {
    "name": "ipython",
    "version": 2
   },
   "file_extension": ".py",
   "mimetype": "text/x-python",
   "name": "python",
   "nbconvert_exporter": "python",
   "pygments_lexer": "ipython2",
   "version": "2.7.13"
  }
 },
 "nbformat": 4,
 "nbformat_minor": 2
}
