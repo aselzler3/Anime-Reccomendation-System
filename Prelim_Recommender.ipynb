{
 "cells": [
  {
   "cell_type": "code",
   "execution_count": 38,
   "metadata": {
    "collapsed": true
   },
   "outputs": [],
   "source": [
    "from __future__ import division\n",
    "import pandas as pd\n",
    "import numpy as np\n",
    "from scipy.sparse import csr_matrix\n",
    "import requests"
   ]
  },
  {
   "cell_type": "code",
   "execution_count": 39,
   "metadata": {
    "collapsed": true
   },
   "outputs": [],
   "source": [
    "U_df=pd.read_csv('data/U.csv')\n",
    "V_T_df=pd.read_csv('data/V_T.csv')\n",
    "V_inv_df=pd.read_csv('data/V_inv.csv')"
   ]
  },
  {
   "cell_type": "code",
   "execution_count": 40,
   "metadata": {
    "collapsed": true
   },
   "outputs": [],
   "source": [
    "U=np.array(U_df)\n",
    "V=np.array(V_T_df).T\n",
    "V_inv=np.array(V_inv_df)"
   ]
  },
  {
   "cell_type": "code",
   "execution_count": 41,
   "metadata": {
    "collapsed": false
   },
   "outputs": [
    {
     "data": {
      "text/plain": [
       "(99217, 10)"
      ]
     },
     "execution_count": 41,
     "metadata": {},
     "output_type": "execute_result"
    }
   ],
   "source": [
    "V_inv.shape"
   ]
  },
  {
   "cell_type": "code",
   "execution_count": 42,
   "metadata": {
    "collapsed": false
   },
   "outputs": [],
   "source": [
    "url='https://anilist.co/api/'\n",
    "cid='selzla-6acux'\n",
    "sec='eGi4fmsY9pV64E1fSTWJJ1'\n",
    "username='Goldensunboy'\n",
    "params={'grant_type':\"client_credentials\",'client_id':cid,'client_secret':sec}\n",
    "access=requests.post(url+'auth/access_token',data=params)\n",
    "access_token=access.json()['access_token']"
   ]
  },
  {
   "cell_type": "code",
   "execution_count": 43,
   "metadata": {
    "collapsed": true
   },
   "outputs": [],
   "source": [
    "user_anime=requests.get(url+'user/'+username+'/animelist?access_token='+access_token)"
   ]
  },
  {
   "cell_type": "code",
   "execution_count": 44,
   "metadata": {
    "collapsed": false
   },
   "outputs": [],
   "source": [
    "completed = user_anime.json()['lists']['completed']"
   ]
  },
  {
   "cell_type": "code",
   "execution_count": 45,
   "metadata": {
    "collapsed": true
   },
   "outputs": [],
   "source": [
    "scores = []\n",
    "for i in range(len(completed)):\n",
    "    title=completed[i]['anime']['title_english'].encode(\"utf-8\")\n",
    "    anime_id=completed[i]['anime']['id']\n",
    "    score=completed[i]['score_raw']\n",
    "    scores.append([anime_id, score])"
   ]
  },
  {
   "cell_type": "code",
   "execution_count": 46,
   "metadata": {
    "collapsed": true
   },
   "outputs": [],
   "source": [
    "series_df=pd.read_csv('data/series_data.csv')"
   ]
  },
  {
   "cell_type": "code",
   "execution_count": 47,
   "metadata": {
    "collapsed": false
   },
   "outputs": [],
   "source": [
    "titles={}\n",
    "for i in range(len(series_df)):\n",
    "    ID = series_df['id'][i]\n",
    "    title = series_df['title_english'][i]\n",
    "    titles[ID] = title\n"
   ]
  },
  {
   "cell_type": "code",
   "execution_count": 48,
   "metadata": {
    "collapsed": false
   },
   "outputs": [],
   "source": [
    "user=np.array([row for row in scores if row[0] in np.array(series_df['id'])])\n",
    "user=np.array([[row[0]-1, row[1]] for row in user])\n",
    "# print user"
   ]
  },
  {
   "cell_type": "code",
   "execution_count": 53,
   "metadata": {
    "collapsed": false
   },
   "outputs": [],
   "source": [
    "# np.array([[row[0]-1, row[1]] for row in user])"
   ]
  },
  {
   "cell_type": "code",
   "execution_count": 50,
   "metadata": {
    "collapsed": true
   },
   "outputs": [],
   "source": [
    "user_vector = np.zeros(V_inv.shape[0])\n",
    "for row in user:\n",
    "    user_vector[row[0]]=row[1]"
   ]
  },
  {
   "cell_type": "code",
   "execution_count": 51,
   "metadata": {
    "collapsed": false
   },
   "outputs": [],
   "source": [
    "new_decomp=np.dot(user_vector, V_inv)\n",
    "new_R=np.dot(new_decomp, V)"
   ]
  },
  {
   "cell_type": "code",
   "execution_count": 54,
   "metadata": {
    "collapsed": false
   },
   "outputs": [
    {
     "name": "stdout",
     "output_type": "stream",
     "text": [
      "6547 Angel Beats!\n",
      "11757 Sword Art Online\n",
      "11741 Fate/Zero 2nd Season\n",
      "5081 Bakemonogatari\n",
      "4181 Clannad After Story\n",
      "2167 Clannad\n",
      "4224 Toradora!\n",
      "9989 Anohana: The Flower We Saw That Day\n",
      "11597 Nisemonogatari\n",
      "11111 Another\n",
      "30 Neon Genesis Evangelion\n"
     ]
    }
   ],
   "source": [
    "seen = [row[0] for row in scores]\n",
    "rec=np.argsort(-1*new_R)\n",
    "count = 0\n",
    "for i in range(100):\n",
    "    if rec[i]+1 not in seen:\n",
    "        print rec[i]+1, titles[rec[i]+1]\n",
    "        count +=1 \n",
    "    if count>10:\n",
    "        break\n",
    "    \n",
    "    "
   ]
  }
 ],
 "metadata": {
  "kernelspec": {
   "display_name": "Python 2",
   "language": "python",
   "name": "python2"
  },
  "language_info": {
   "codemirror_mode": {
    "name": "ipython",
    "version": 2
   },
   "file_extension": ".py",
   "mimetype": "text/x-python",
   "name": "python",
   "nbconvert_exporter": "python",
   "pygments_lexer": "ipython2",
   "version": "2.7.13"
  }
 },
 "nbformat": 4,
 "nbformat_minor": 2
}
