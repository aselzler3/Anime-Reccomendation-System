{
 "cells": [
  {
   "cell_type": "code",
   "execution_count": 27,
   "metadata": {
    "collapsed": true
   },
   "outputs": [],
   "source": [
    "from __future__ import division\n",
    "import pandas as pd\n",
    "import numpy as np\n",
    "from scipy.sparse import csr_matrix\n",
    "import requests\n",
    "import ast"
   ]
  },
  {
   "cell_type": "code",
   "execution_count": 28,
   "metadata": {
    "collapsed": true
   },
   "outputs": [],
   "source": [
    "U_df=pd.read_csv('data/U.csv')\n",
    "V_T_df=pd.read_csv('data/V_T.csv')\n",
    "V_inv_df=pd.read_csv('data/V_inv.csv')"
   ]
  },
  {
   "cell_type": "code",
   "execution_count": 29,
   "metadata": {
    "collapsed": true
   },
   "outputs": [],
   "source": [
    "U=np.array(U_df)\n",
    "V=np.array(V_T_df).T\n",
    "V_inv=np.array(V_inv_df)"
   ]
  },
  {
   "cell_type": "code",
   "execution_count": 30,
   "metadata": {
    "collapsed": false
   },
   "outputs": [
    {
     "data": {
      "text/plain": [
       "(99217, 10)"
      ]
     },
     "execution_count": 30,
     "metadata": {},
     "output_type": "execute_result"
    }
   ],
   "source": [
    "V_inv.shape"
   ]
  },
  {
   "cell_type": "code",
   "execution_count": 31,
   "metadata": {
    "collapsed": false
   },
   "outputs": [],
   "source": [
    "url='https://anilist.co/api/'\n",
    "cid='selzla-6acux'\n",
    "sec='eGi4fmsY9pV64E1fSTWJJ1'\n",
    "username='lightningkyria'\n",
    "params={'grant_type':\"client_credentials\",'client_id':cid,'client_secret':sec}\n",
    "access=requests.post(url+'auth/access_token',data=params)\n",
    "access_token=access.json()['access_token']"
   ]
  },
  {
   "cell_type": "code",
   "execution_count": 32,
   "metadata": {
    "collapsed": true
   },
   "outputs": [],
   "source": [
    "user_anime=requests.get(url+'user/'+username+'/animelist?access_token='+access_token)"
   ]
  },
  {
   "cell_type": "code",
   "execution_count": 33,
   "metadata": {
    "collapsed": false
   },
   "outputs": [],
   "source": [
    "completed = user_anime.json()['lists']['completed']\n",
    "watching = user_anime.json()['lists']['watching']\n",
    "dropped = user_anime.json()['lists']['dropped']\n",
    "on_hold = user_anime.json()['lists']['on_hold']\n",
    "plan_to_watch = user_anime.json()['lists']['plan_to_watch']"
   ]
  },
  {
   "cell_type": "code",
   "execution_count": 34,
   "metadata": {
    "collapsed": true
   },
   "outputs": [],
   "source": [
    "scores = []\n",
    "for i in range(len(completed)):\n",
    "    title=completed[i]['anime']['title_english'].encode(\"utf-8\")\n",
    "    anime_id=completed[i]['anime']['id']\n",
    "    score=completed[i]['score_raw']\n",
    "    scores.append([anime_id, score])"
   ]
  },
  {
   "cell_type": "code",
   "execution_count": 35,
   "metadata": {
    "collapsed": true
   },
   "outputs": [],
   "source": [
    "series_df=pd.read_csv('data/series_data.csv')"
   ]
  },
  {
   "cell_type": "code",
   "execution_count": 36,
   "metadata": {
    "collapsed": true
   },
   "outputs": [],
   "source": [
    "series_df['real_genres']=series_df['genres'].apply(lambda x: ast.literal_eval(x))"
   ]
  },
  {
   "cell_type": "code",
   "execution_count": 37,
   "metadata": {
    "collapsed": true
   },
   "outputs": [],
   "source": [
    "def isAdult(ID):\n",
    "    if len(list(series_df[series_df['id']==ID]['adult'])):\n",
    "        return list(series_df[series_df['id']==ID]['adult'])[0]\n",
    "    else:\n",
    "        return None"
   ]
  },
  {
   "cell_type": "code",
   "execution_count": 38,
   "metadata": {
    "collapsed": false
   },
   "outputs": [],
   "source": [
    "def hasGenre(ID, genre):\n",
    "    if len(list(series_df[series_df['id']==ID]['real_genres']))>0:\n",
    "        return genre in list(series_df[series_df['id']==ID]['real_genres'])[0]\n",
    "    else:\n",
    "        return None"
   ]
  },
  {
   "cell_type": "code",
   "execution_count": 39,
   "metadata": {
    "collapsed": false
   },
   "outputs": [],
   "source": [
    "def StartYear(ID):\n",
    "    if len(list(series_df[series_df['id']==ID]['start_date']))>0:\n",
    "        return int(list(series_df[series_df['id']==ID]['start_date'])[0][:4])\n",
    "    else:\n",
    "        return None"
   ]
  },
  {
   "cell_type": "code",
   "execution_count": 40,
   "metadata": {
    "collapsed": false
   },
   "outputs": [],
   "source": [
    "def numEpisodes(ID):\n",
    "    if len(list(series_df[series_df['id']==ID]['total_episodes']))>0:\n",
    "        return list(series_df[series_df['id']==ID]['total_episodes'])[0]\n",
    "    else: \n",
    "        return None"
   ]
  },
  {
   "cell_type": "code",
   "execution_count": 41,
   "metadata": {
    "collapsed": false
   },
   "outputs": [],
   "source": [
    "def Type(ID):\n",
    "    if len(list(series_df[series_df['id']==ID]['type']))>0:\n",
    "        return list(series_df[series_df['id']==ID]['type'])[0]\n",
    "    else:\n",
    "        return None"
   ]
  },
  {
   "cell_type": "code",
   "execution_count": 42,
   "metadata": {
    "collapsed": false
   },
   "outputs": [
    {
     "data": {
      "text/plain": [
       "'TV'"
      ]
     },
     "execution_count": 42,
     "metadata": {},
     "output_type": "execute_result"
    }
   ],
   "source": [
    "Type(1)"
   ]
  },
  {
   "cell_type": "code",
   "execution_count": 43,
   "metadata": {
    "collapsed": false
   },
   "outputs": [],
   "source": [
    "titles={}\n",
    "for i in range(len(series_df)):\n",
    "    ID = series_df['id'][i]\n",
    "    title = series_df['title_english'][i]\n",
    "    titles[ID] = title\n"
   ]
  },
  {
   "cell_type": "code",
   "execution_count": 44,
   "metadata": {
    "collapsed": false
   },
   "outputs": [],
   "source": [
    "user=np.array([row for row in scores if row[0] in np.array(series_df['id'])])\n",
    "user=np.array([[row[0]-1, row[1]] for row in user])\n",
    "# print user"
   ]
  },
  {
   "cell_type": "code",
   "execution_count": 45,
   "metadata": {
    "collapsed": false
   },
   "outputs": [],
   "source": [
    "# np.array([[row[0]-1, row[1]] for row in user])"
   ]
  },
  {
   "cell_type": "code",
   "execution_count": 46,
   "metadata": {
    "collapsed": true
   },
   "outputs": [],
   "source": [
    "user_vector = np.zeros(V_inv.shape[0])\n",
    "for row in user:\n",
    "    user_vector[row[0]]=row[1]"
   ]
  },
  {
   "cell_type": "code",
   "execution_count": 47,
   "metadata": {
    "collapsed": false
   },
   "outputs": [],
   "source": [
    "new_user=user_vector[np.where(user_vector!=0)]\n",
    "new_V=V.T[np.where(user_vector!=0)].T\n",
    "s=np.linalg.lstsq(new_V.T,new_user.T)[0].T\n",
    "new_R=np.dot(s,V)"
   ]
  },
  {
   "cell_type": "code",
   "execution_count": 48,
   "metadata": {
    "collapsed": false
   },
   "outputs": [],
   "source": [
    "seen = [row[0] for row in scores]\n",
    "others = [watching, dropped, on_hold, plan_to_watch]\n",
    "for x in others:\n",
    "    for i in range(len(x)):\n",
    "        seen.append(x[i]['anime']['id'])"
   ]
  },
  {
   "cell_type": "code",
   "execution_count": 49,
   "metadata": {
    "collapsed": false
   },
   "outputs": [
    {
     "name": "stdout",
     "output_type": "stream",
     "text": [
      "18897 Nisekoi\n",
      "20668 Monthly Girls' Nozaki-kun\n",
      "20447 Noragami\n",
      "17265 Log Horizon\n",
      "20722 Barakamon\n",
      "20602 Amagi Brilliant Park\n",
      "20457 Black Bullet\n",
      "17549 Non Non Biyori\n",
      "20529 The Kawai Complex Guide to Manors and Hostel Behavior\n",
      "18153 Beyond the Boundary\n",
      "20462 Chaika -The Coffin Princess-\n",
      "18671 Love, Chunibyo & Other Delusions - Heart Throb -\n"
     ]
    }
   ],
   "source": [
    "rec=np.argsort(-1*new_R)\n",
    "rec = rec+1\n",
    "f_type = (True, 'TV')\n",
    "f_genres = (False, 'Slice of Life')\n",
    "f_year = (False, 2000, 2016)\n",
    "f_episodes = (False, 1, 100)\n",
    "f_adult = (False, False)\n",
    "count = 0\n",
    "for i in range(1000):\n",
    "    if rec[i] not in seen:\n",
    "        allowed = True\n",
    "        if f_type[0]:\n",
    "            if Type(rec[i])!=f_type[1]:\n",
    "                allowed = False\n",
    "        if f_genres[0]:\n",
    "            if not hasGenre(rec[i], f_genres[1]):\n",
    "                allowed = False\n",
    "        if f_year[0]:\n",
    "            if StartYear(rec[i])<f_year[1] or StartYear(rec[i])>f_year[2]:\n",
    "                allowed = False\n",
    "        if f_episodes[0]:\n",
    "            if numEpisodes(rec[i])<f_episodes[1] or numEpisodes(rec[i])>f_episodes[2]:\n",
    "                allowed = False \n",
    "        if f_adult[0]:\n",
    "            if isAdult(rec[i])!=f_adult[1]:\n",
    "                allowed = False\n",
    "        if allowed:\n",
    "            print rec[i], titles[rec[i]]\n",
    "            count +=1 \n",
    "    if count>11:\n",
    "        break\n",
    "    \n",
    "    "
   ]
  }
 ],
 "metadata": {
  "kernelspec": {
   "display_name": "Python 2",
   "language": "python",
   "name": "python2"
  },
  "language_info": {
   "codemirror_mode": {
    "name": "ipython",
    "version": 2
   },
   "file_extension": ".py",
   "mimetype": "text/x-python",
   "name": "python",
   "nbconvert_exporter": "python",
   "pygments_lexer": "ipython2",
   "version": "2.7.13"
  }
 },
 "nbformat": 4,
 "nbformat_minor": 2
}
