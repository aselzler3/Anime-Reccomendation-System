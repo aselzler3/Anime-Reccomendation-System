{
 "cells": [
  {
   "cell_type": "code",
   "execution_count": 405,
   "metadata": {
    "collapsed": true
   },
   "outputs": [],
   "source": [
    "from __future__ import division\n",
    "import pandas as pd\n",
    "import numpy as np\n",
    "from scipy.sparse import csr_matrix\n",
    "import requests\n",
    "import ast"
   ]
  },
  {
   "cell_type": "code",
   "execution_count": 406,
   "metadata": {
    "collapsed": false
   },
   "outputs": [
    {
     "name": "stdout",
     "output_type": "stream",
     "text": [
      "264\n"
     ]
    }
   ],
   "source": [
    "V_T_df=pd.read_csv('data/spark_V.csv')\n",
    "id_map=pd.read_csv('data/id_mapping.csv')\n",
    "avg_show=pd.read_csv('data/avg_show_R.csv')\n",
    "num_views=pd.read_csv('data/num_views.csv')\n",
    "print len(num_views[num_views['num_views']>5000])"
   ]
  },
  {
   "cell_type": "code",
   "execution_count": 407,
   "metadata": {
    "collapsed": false
   },
   "outputs": [],
   "source": [
    "item_mapping=np.array(id_map['col1'])"
   ]
  },
  {
   "cell_type": "code",
   "execution_count": 408,
   "metadata": {
    "collapsed": false
   },
   "outputs": [
    {
     "data": {
      "text/html": [
       "<div>\n",
       "<style>\n",
       "    .dataframe thead tr:only-child th {\n",
       "        text-align: right;\n",
       "    }\n",
       "\n",
       "    .dataframe thead th {\n",
       "        text-align: left;\n",
       "    }\n",
       "\n",
       "    .dataframe tbody tr th {\n",
       "        vertical-align: top;\n",
       "    }\n",
       "</style>\n",
       "<table border=\"1\" class=\"dataframe\">\n",
       "  <thead>\n",
       "    <tr style=\"text-align: right;\">\n",
       "      <th></th>\n",
       "      <th>Unnamed: 0</th>\n",
       "      <th>anime_id</th>\n",
       "      <th>avg_for_show</th>\n",
       "    </tr>\n",
       "  </thead>\n",
       "  <tbody>\n",
       "    <tr>\n",
       "      <th>0</th>\n",
       "      <td>0</td>\n",
       "      <td>1</td>\n",
       "      <td>85.094644</td>\n",
       "    </tr>\n",
       "    <tr>\n",
       "      <th>1</th>\n",
       "      <td>1</td>\n",
       "      <td>5</td>\n",
       "      <td>80.694702</td>\n",
       "    </tr>\n",
       "    <tr>\n",
       "      <th>2</th>\n",
       "      <td>2</td>\n",
       "      <td>6</td>\n",
       "      <td>79.888049</td>\n",
       "    </tr>\n",
       "    <tr>\n",
       "      <th>3</th>\n",
       "      <td>3</td>\n",
       "      <td>7</td>\n",
       "      <td>71.701940</td>\n",
       "    </tr>\n",
       "    <tr>\n",
       "      <th>4</th>\n",
       "      <td>4</td>\n",
       "      <td>8</td>\n",
       "      <td>70.015306</td>\n",
       "    </tr>\n",
       "    <tr>\n",
       "      <th>5</th>\n",
       "      <td>5</td>\n",
       "      <td>15</td>\n",
       "      <td>77.357843</td>\n",
       "    </tr>\n",
       "  </tbody>\n",
       "</table>\n",
       "</div>"
      ],
      "text/plain": [
       "   Unnamed: 0  anime_id  avg_for_show\n",
       "0           0         1     85.094644\n",
       "1           1         5     80.694702\n",
       "2           2         6     79.888049\n",
       "3           3         7     71.701940\n",
       "4           4         8     70.015306\n",
       "5           5        15     77.357843"
      ]
     },
     "execution_count": 408,
     "metadata": {},
     "output_type": "execute_result"
    }
   ],
   "source": [
    "avg_show.head(6)"
   ]
  },
  {
   "cell_type": "code",
   "execution_count": null,
   "metadata": {
    "collapsed": false
   },
   "outputs": [],
   "source": []
  },
  {
   "cell_type": "code",
   "execution_count": 409,
   "metadata": {
    "collapsed": false
   },
   "outputs": [],
   "source": [
    "url='https://anilist.co/api/'\n",
    "cid='selzla-6acux'\n",
    "sec='eGi4fmsY9pV64E1fSTWJJ1'\n",
    "username='Goldensunboy'\n",
    "params={'grant_type':\"client_credentials\",'client_id':cid,'client_secret':sec}\n",
    "access=requests.post(url+'auth/access_token',data=params)\n",
    "access_token=access.json()['access_token']"
   ]
  },
  {
   "cell_type": "code",
   "execution_count": 410,
   "metadata": {
    "collapsed": true
   },
   "outputs": [],
   "source": [
    "user_anime=requests.get(url+'user/'+username+'/animelist?access_token='+access_token)"
   ]
  },
  {
   "cell_type": "code",
   "execution_count": 411,
   "metadata": {
    "collapsed": false
   },
   "outputs": [],
   "source": [
    "completed = user_anime.json()['lists']['completed']\n",
    "\n",
    "if 'watching' in user_anime.json()['lists']:\n",
    "    watching = user_anime.json()['lists']['watching']\n",
    "else:\n",
    "    watching = []\n",
    "\n",
    "if 'dropped' in user_anime.json()['lists']:\n",
    "    dropped = user_anime.json()['lists']['dropped']\n",
    "else:\n",
    "    dropped = []\n",
    "\n",
    "if 'on_hold' in user_anime.json()['lists']:\n",
    "    on_hold = user_anime.json()['lists']['on_hold']\n",
    "else:\n",
    "    on_hold = []\n",
    "\n",
    "if 'plan_to_watch' in user_anime.json()['lists']:\n",
    "    plan_to_watch = user_anime.json()['lists']['plan_to_watch']\n",
    "else:\n",
    "    plan_to_watch = []"
   ]
  },
  {
   "cell_type": "code",
   "execution_count": 412,
   "metadata": {
    "collapsed": true
   },
   "outputs": [],
   "source": [
    "scores = []\n",
    "for i in range(len(completed)):\n",
    "    title=completed[i]['anime']['title_english'].encode(\"utf-8\")\n",
    "    anime_id=completed[i]['anime']['id']\n",
    "    score=completed[i]['score_raw']\n",
    "    scores.append([anime_id, score])"
   ]
  },
  {
   "cell_type": "code",
   "execution_count": 413,
   "metadata": {
    "collapsed": true
   },
   "outputs": [],
   "source": [
    "series_df=pd.read_csv('data/series_data.csv')"
   ]
  },
  {
   "cell_type": "code",
   "execution_count": 414,
   "metadata": {
    "collapsed": true
   },
   "outputs": [],
   "source": [
    "series_df['real_genres']=series_df['genres'].apply(lambda x: ast.literal_eval(x))"
   ]
  },
  {
   "cell_type": "code",
   "execution_count": 415,
   "metadata": {
    "collapsed": true
   },
   "outputs": [],
   "source": [
    "def isAdult(ID):\n",
    "    if len(list(series_df[series_df['id']==ID]['adult'])):\n",
    "        return list(series_df[series_df['id']==ID]['adult'])[0]\n",
    "    else:\n",
    "        return None"
   ]
  },
  {
   "cell_type": "code",
   "execution_count": 416,
   "metadata": {
    "collapsed": false
   },
   "outputs": [],
   "source": [
    "def hasGenre(ID, genre):\n",
    "    if len(list(series_df[series_df['id']==ID]['real_genres']))>0:\n",
    "        return genre in list(series_df[series_df['id']==ID]['real_genres'])[0]\n",
    "    else:\n",
    "        return None"
   ]
  },
  {
   "cell_type": "code",
   "execution_count": 417,
   "metadata": {
    "collapsed": false
   },
   "outputs": [],
   "source": [
    "def StartYear(ID):\n",
    "    if len(list(series_df[series_df['id']==ID]['start_date']))>0:\n",
    "        if type(list(series_df[series_df['id']==ID]['start_date'])[0])==str:\n",
    "            return int(list(series_df[series_df['id']==ID]['start_date'])[0][:4])\n",
    "    else:\n",
    "        return None"
   ]
  },
  {
   "cell_type": "code",
   "execution_count": 418,
   "metadata": {
    "collapsed": false
   },
   "outputs": [],
   "source": [
    "def numEpisodes(ID):\n",
    "    if len(list(series_df[series_df['id']==ID]['total_episodes']))>0:\n",
    "        return list(series_df[series_df['id']==ID]['total_episodes'])[0]\n",
    "    else: \n",
    "        return None"
   ]
  },
  {
   "cell_type": "code",
   "execution_count": 419,
   "metadata": {
    "collapsed": false
   },
   "outputs": [],
   "source": [
    "def Type(ID):\n",
    "    if len(list(series_df[series_df['id']==ID]['type']))>0:\n",
    "        return list(series_df[series_df['id']==ID]['type'])[0]\n",
    "    else:\n",
    "        return None"
   ]
  },
  {
   "cell_type": "code",
   "execution_count": 420,
   "metadata": {
    "collapsed": false
   },
   "outputs": [
    {
     "data": {
      "text/plain": [
       "10286"
      ]
     },
     "execution_count": 420,
     "metadata": {},
     "output_type": "execute_result"
    }
   ],
   "source": [
    "len(series_df)"
   ]
  },
  {
   "cell_type": "code",
   "execution_count": 421,
   "metadata": {
    "collapsed": false
   },
   "outputs": [],
   "source": [
    "titles={}\n",
    "for i in range(len(series_df)):\n",
    "    ID = series_df['id'][i]\n",
    "    title = series_df['title_english'][i]\n",
    "    titles[ID] = title\n"
   ]
  },
  {
   "cell_type": "code",
   "execution_count": 422,
   "metadata": {
    "collapsed": false
   },
   "outputs": [
    {
     "name": "stdout",
     "output_type": "stream",
     "text": [
      "10175\n"
     ]
    }
   ],
   "source": [
    "popularity={}\n",
    "for x in np.array(num_views):\n",
    "    popularity[x[0]]=x[1]\n",
    "print popularity[1]"
   ]
  },
  {
   "cell_type": "code",
   "execution_count": 423,
   "metadata": {
    "collapsed": false
   },
   "outputs": [],
   "source": [
    "user=np.array([row for row in scores if row[0] in item_mapping])\n",
    "#user=np.array([[row[0]-1, row[1]] for row in user])\n",
    "# print user"
   ]
  },
  {
   "cell_type": "code",
   "execution_count": 424,
   "metadata": {
    "collapsed": false
   },
   "outputs": [
    {
     "data": {
      "text/plain": [
       "5"
      ]
     },
     "execution_count": 424,
     "metadata": {},
     "output_type": "execute_result"
    }
   ],
   "source": [
    "item_mapping[1]"
   ]
  },
  {
   "cell_type": "code",
   "execution_count": 425,
   "metadata": {
    "collapsed": false
   },
   "outputs": [
    {
     "name": "stdout",
     "output_type": "stream",
     "text": [
      "10 9856\n"
     ]
    }
   ],
   "source": [
    "V=np.array(V_T_df).T\n",
    "print V.shape[0], V.shape[1]"
   ]
  },
  {
   "cell_type": "code",
   "execution_count": 426,
   "metadata": {
    "collapsed": false
   },
   "outputs": [
    {
     "name": "stdout",
     "output_type": "stream",
     "text": [
      "80.6947019868\n"
     ]
    }
   ],
   "source": [
    "average_ratings={}\n",
    "for i in range(len(avg_show)):\n",
    "    average_ratings[avg_show['anime_id'][i]]=avg_show['avg_for_show'][i]\n",
    "print average_ratings[5]"
   ]
  },
  {
   "cell_type": "code",
   "execution_count": 427,
   "metadata": {
    "collapsed": false
   },
   "outputs": [],
   "source": [
    "user_vector = np.zeros(V.shape[1])\n",
    "for row in user:\n",
    "    user_vector[list(item_mapping).index(row[0])]=row[1]+74-np.mean(user[:,1])-average_ratings[row[0]]"
   ]
  },
  {
   "cell_type": "code",
   "execution_count": 428,
   "metadata": {
    "collapsed": false
   },
   "outputs": [],
   "source": [
    "new_user=user_vector[np.where(user_vector!=0)]\n",
    "new_V=V.T[np.where(user_vector!=0)].T\n",
    "s=np.linalg.lstsq(new_V.T,new_user.T)[0].T\n",
    "new_R=np.dot(s,V)\n",
    "for i in range(len(new_R)):\n",
    "    ratio = (popularity[item_mapping[i]]-np.sqrt(popularity[item_mapping[i]]))/popularity[item_mapping[i]]\n",
    "    new_R[i]=new_R[i]+average_ratings[item_mapping[i]]*ratio+np.mean(user[:,1])-74"
   ]
  },
  {
   "cell_type": "code",
   "execution_count": 437,
   "metadata": {
    "collapsed": false
   },
   "outputs": [
    {
     "data": {
      "text/plain": [
       "array([ 0.,  0.,  0., ...,  0.,  0.,  0.])"
      ]
     },
     "execution_count": 437,
     "metadata": {},
     "output_type": "execute_result"
    }
   ],
   "source": [
    "empty=np.zeros(10)\n",
    "np.dot(empty,V)"
   ]
  },
  {
   "cell_type": "code",
   "execution_count": 430,
   "metadata": {
    "collapsed": false
   },
   "outputs": [],
   "source": [
    "seen = [row[0] for row in scores]\n",
    "others = [watching, dropped, on_hold, plan_to_watch]\n",
    "for x in others:\n",
    "    for i in range(len(x)):\n",
    "        seen.append(x[i]['anime']['id'])"
   ]
  },
  {
   "cell_type": "code",
   "execution_count": 431,
   "metadata": {
    "collapsed": false
   },
   "outputs": [],
   "source": [
    "rec=np.argsort(-1*new_R)\n",
    "rec=[item_mapping[x] for x in rec] "
   ]
  },
  {
   "cell_type": "code",
   "execution_count": null,
   "metadata": {
    "collapsed": false
   },
   "outputs": [],
   "source": []
  },
  {
   "cell_type": "code",
   "execution_count": 432,
   "metadata": {
    "collapsed": false
   },
   "outputs": [
    {
     "name": "stdout",
     "output_type": "stream",
     "text": [
      "11061 Hunter x Hunter (2011) 93.1866977472\n",
      "30 Neon Genesis Evangelion 92.7547390128\n",
      "13125 From the New World 91.6196033498\n",
      "20665 Your Lie in April 91.5210948491\n",
      "17074 Monogatari Series: Second Season 91.501724581\n",
      "11741 Fate/Zero 2nd Season 90.9574760026\n",
      "457 MUSHI-SHI 90.8089031322\n",
      "20661 Terror in Resonance 90.6095377638\n",
      "2251 Baccano! 90.2556522172\n",
      "20722 Barakamon 90.1118642377\n",
      "18153 Beyond the Boundary 89.9597123434\n",
      "20464 Haikyu!! 89.9051476039\n",
      "20789 The Seven Deadly Sins 89.468570057\n",
      "5081 Bakemonogatari 89.4493664299\n",
      "12189 Hyouka 89.3219799899\n",
      "339 Serial Experiments Lain 89.289116355\n"
     ]
    }
   ],
   "source": [
    "\n",
    "f_type = (True, 'TV')\n",
    "f_genres = (False, 'Adventure')\n",
    "f_year = (False, 2014, 2016)\n",
    "f_episodes = (False, 1, 100)\n",
    "f_adult = (False, True)\n",
    "f_popularity = (True, 5000)\n",
    "count = 0\n",
    "for i in range(9000):\n",
    "    if rec[i] not in seen:\n",
    "        allowed = True\n",
    "        if f_popularity[0]:\n",
    "            if popularity[rec[i]]<f_popularity[1]:\n",
    "                allowed = False\n",
    "        if f_type[0]:\n",
    "            if Type(rec[i])!=f_type[1]:\n",
    "                allowed = False\n",
    "        if f_genres[0]:\n",
    "            if not hasGenre(rec[i], f_genres[1]):\n",
    "                allowed = False\n",
    "        if f_year[0]:\n",
    "            if StartYear(rec[i])<f_year[1] or StartYear(rec[i])>f_year[2]:\n",
    "                allowed = False\n",
    "        if f_episodes[0]:\n",
    "            if numEpisodes(rec[i])<f_episodes[1] or numEpisodes(rec[i])>f_episodes[2]:\n",
    "                allowed = False \n",
    "        if f_adult[0]:\n",
    "            if isAdult(rec[i])!=f_adult[1]:\n",
    "                allowed = False\n",
    "        if allowed:\n",
    "            print rec[i], titles[rec[i]], new_R[list(item_mapping).index(rec[i])]\n",
    "            count +=1 \n",
    "    if count>15:\n",
    "        break\n",
    "    \n",
    "    "
   ]
  },
  {
   "cell_type": "code",
   "execution_count": 433,
   "metadata": {
    "collapsed": false
   },
   "outputs": [
    {
     "name": "stdout",
     "output_type": "stream",
     "text": [
      "['Hentai', 'Sports', 'Comedy', 'Ecchi', 'Drama', 'Mystery', 'Romance', 'Supernatural', 'Fantasy', 'Mahou Shoujo', 'Slice of Life', 'Action', 'Mecha', 'Adventure', 'Sci-Fi', 'Music', '', 'Horror', 'Psychological', 'Thriller']\n"
     ]
    }
   ],
   "source": [
    "G = []\n",
    "for x in series_df['real_genres']:\n",
    "    for y in x:\n",
    "        if y not in G:\n",
    "            G.append(y)\n",
    "print G"
   ]
  },
  {
   "cell_type": "code",
   "execution_count": 434,
   "metadata": {
    "collapsed": false
   },
   "outputs": [
    {
     "data": {
      "text/plain": [
       "array([1193, 8522, 3186, ..., 7403, 9722, 9566])"
      ]
     },
     "execution_count": 434,
     "metadata": {},
     "output_type": "execute_result"
    }
   ],
   "source": [
    "np.argsort(-1*new_R)"
   ]
  },
  {
   "cell_type": "code",
   "execution_count": 435,
   "metadata": {
    "collapsed": false
   },
   "outputs": [
    {
     "data": {
      "text/plain": [
       "3.0"
      ]
     },
     "execution_count": 435,
     "metadata": {},
     "output_type": "execute_result"
    }
   ],
   "source": [
    "np.sqrt(9)\n"
   ]
  }
 ],
 "metadata": {
  "kernelspec": {
   "display_name": "Python 2",
   "language": "python",
   "name": "python2"
  },
  "language_info": {
   "codemirror_mode": {
    "name": "ipython",
    "version": 2
   },
   "file_extension": ".py",
   "mimetype": "text/x-python",
   "name": "python",
   "nbconvert_exporter": "python",
   "pygments_lexer": "ipython2",
   "version": "2.7.13"
  }
 },
 "nbformat": 4,
 "nbformat_minor": 2
}
