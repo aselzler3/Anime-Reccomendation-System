{
 "cells": [
  {
   "cell_type": "code",
   "execution_count": 182,
   "metadata": {
    "collapsed": true
   },
   "outputs": [],
   "source": [
    "from __future__ import division\n",
    "import pandas as pd\n",
    "import numpy as np\n",
    "from scipy.sparse import csr_matrix\n",
    "import requests\n",
    "import ast"
   ]
  },
  {
   "cell_type": "code",
   "execution_count": 183,
   "metadata": {
    "collapsed": false
   },
   "outputs": [
    {
     "name": "stdout",
     "output_type": "stream",
     "text": [
      "9856\n",
      "   col1\n",
      "0     1\n",
      "1     5\n",
      "2     6\n",
      "3     7\n",
      "4     8\n"
     ]
    }
   ],
   "source": [
    "V_T_df=pd.read_csv('data/spark_V.csv')\n",
    "id_map=pd.read_csv('data/id_mapping.csv')\n",
    "avg_show=pd.read_csv('data/avg_show_R.csv')\n",
    "num_views=pd.read_csv('data/num_views.csv')\n",
    "\n",
    "V_T_df['id'] = id_map['col1']\n",
    "print len(V_T_df['id'].unique())\n",
    "print id_map.head()"
   ]
  },
  {
   "cell_type": "code",
   "execution_count": 184,
   "metadata": {
    "collapsed": false,
    "scrolled": true
   },
   "outputs": [
    {
     "name": "stdout",
     "output_type": "stream",
     "text": [
      "9751\n"
     ]
    }
   ],
   "source": [
    "series_df=pd.read_csv('data/series_data.csv')\n",
    "series_df['real_genres']=series_df['genres'].apply(lambda x: ast.literal_eval(x))\n",
    "\n",
    "series_df['in'] = series_df['id'].apply(lambda x: x in np.array(V_T_df['id']))\n",
    "series_df=series_df[series_df['in']]\n",
    "series_df=series_df.sort_values('id')\n",
    "print len(series_df)\n"
   ]
  },
  {
   "cell_type": "code",
   "execution_count": 185,
   "metadata": {
    "collapsed": false
   },
   "outputs": [
    {
     "name": "stdout",
     "output_type": "stream",
     "text": [
      "9751\n"
     ]
    }
   ],
   "source": [
    "V_T_df['in'] = V_T_df['id'].apply(lambda x: x in np.array(series_df['id']))\n",
    "V_T_df = V_T_df[V_T_df['in']]\n",
    "print len(V_T_df)"
   ]
  },
  {
   "cell_type": "code",
   "execution_count": 186,
   "metadata": {
    "collapsed": false
   },
   "outputs": [
    {
     "name": "stdout",
     "output_type": "stream",
     "text": [
      "9751\n"
     ]
    },
    {
     "data": {
      "text/html": [
       "<div>\n",
       "<style>\n",
       "    .dataframe thead tr:only-child th {\n",
       "        text-align: right;\n",
       "    }\n",
       "\n",
       "    .dataframe thead th {\n",
       "        text-align: left;\n",
       "    }\n",
       "\n",
       "    .dataframe tbody tr th {\n",
       "        vertical-align: top;\n",
       "    }\n",
       "</style>\n",
       "<table border=\"1\" class=\"dataframe\">\n",
       "  <thead>\n",
       "    <tr style=\"text-align: right;\">\n",
       "      <th></th>\n",
       "      <th>anime_id</th>\n",
       "      <th>num_views</th>\n",
       "      <th>in</th>\n",
       "    </tr>\n",
       "  </thead>\n",
       "  <tbody>\n",
       "    <tr>\n",
       "      <th>0</th>\n",
       "      <td>1</td>\n",
       "      <td>10175</td>\n",
       "      <td>True</td>\n",
       "    </tr>\n",
       "    <tr>\n",
       "      <th>1</th>\n",
       "      <td>5</td>\n",
       "      <td>4530</td>\n",
       "      <td>True</td>\n",
       "    </tr>\n",
       "    <tr>\n",
       "      <th>2</th>\n",
       "      <td>6</td>\n",
       "      <td>5824</td>\n",
       "      <td>True</td>\n",
       "    </tr>\n",
       "    <tr>\n",
       "      <th>3</th>\n",
       "      <td>7</td>\n",
       "      <td>1134</td>\n",
       "      <td>True</td>\n",
       "    </tr>\n",
       "    <tr>\n",
       "      <th>4</th>\n",
       "      <td>8</td>\n",
       "      <td>196</td>\n",
       "      <td>True</td>\n",
       "    </tr>\n",
       "  </tbody>\n",
       "</table>\n",
       "</div>"
      ],
      "text/plain": [
       "   anime_id  num_views    in\n",
       "0         1      10175  True\n",
       "1         5       4530  True\n",
       "2         6       5824  True\n",
       "3         7       1134  True\n",
       "4         8        196  True"
      ]
     },
     "execution_count": 186,
     "metadata": {},
     "output_type": "execute_result"
    }
   ],
   "source": [
    "avg_show['in']=avg_show['anime_id'].apply(lambda x: x in np.array(series_df['id']))\n",
    "avg_show=avg_show[avg_show['in']]\n",
    "\n",
    "num_views['in']=num_views['anime_id'].apply(lambda x: x in np.array(series_df['id']))\n",
    "num_views=num_views[num_views['in']]\n",
    "\n",
    "print len(num_views)\n",
    "num_views.head()"
   ]
  },
  {
   "cell_type": "code",
   "execution_count": 187,
   "metadata": {
    "collapsed": false
   },
   "outputs": [],
   "source": [
    "series_df['average_rating']=np.array(avg_show['avg_for_show'])\n",
    "series_df['num_views']=np.array(num_views['num_views'])\n",
    "item_mapping = np.array(series_df['id'])"
   ]
  },
  {
   "cell_type": "code",
   "execution_count": 188,
   "metadata": {
    "collapsed": false
   },
   "outputs": [],
   "source": [
    "url='https://anilist.co/api/'\n",
    "cid='selzla-6acux'\n",
    "sec='eGi4fmsY9pV64E1fSTWJJ1'\n",
    "username='selzla'\n",
    "params={'grant_type':\"client_credentials\",'client_id':cid,'client_secret':sec}\n",
    "access=requests.post(url+'auth/access_token',data=params)\n",
    "access_token=access.json()['access_token']"
   ]
  },
  {
   "cell_type": "code",
   "execution_count": 189,
   "metadata": {
    "collapsed": true
   },
   "outputs": [],
   "source": [
    "user_anime=requests.get(url+'user/'+username+'/animelist?access_token='+access_token)"
   ]
  },
  {
   "cell_type": "code",
   "execution_count": 190,
   "metadata": {
    "collapsed": false
   },
   "outputs": [],
   "source": [
    "completed = user_anime.json()['lists']['completed']\n",
    "\n",
    "if 'watching' in user_anime.json()['lists']:\n",
    "    watching = user_anime.json()['lists']['watching']\n",
    "else:\n",
    "    watching = []\n",
    "\n",
    "if 'dropped' in user_anime.json()['lists']:\n",
    "    dropped = user_anime.json()['lists']['dropped']\n",
    "else:\n",
    "    dropped = []\n",
    "\n",
    "if 'on_hold' in user_anime.json()['lists']:\n",
    "    on_hold = user_anime.json()['lists']['on_hold']\n",
    "else:\n",
    "    on_hold = []\n",
    "\n",
    "if 'plan_to_watch' in user_anime.json()['lists']:\n",
    "    plan_to_watch = user_anime.json()['lists']['plan_to_watch']\n",
    "else:\n",
    "    plan_to_watch = []"
   ]
  },
  {
   "cell_type": "code",
   "execution_count": 191,
   "metadata": {
    "collapsed": true
   },
   "outputs": [],
   "source": [
    "scores = []\n",
    "for i in range(len(completed)):\n",
    "    title=completed[i]['anime']['title_english'].encode(\"utf-8\")\n",
    "    anime_id=completed[i]['anime']['id']\n",
    "    score=completed[i]['score_raw']\n",
    "    scores.append([anime_id, score])"
   ]
  },
  {
   "cell_type": "code",
   "execution_count": 192,
   "metadata": {
    "collapsed": true
   },
   "outputs": [],
   "source": [
    "def isAdult(ID):\n",
    "    if len(list(series_df[series_df['id']==ID]['adult'])):\n",
    "        return list(series_df[series_df['id']==ID]['adult'])[0]\n",
    "    else:\n",
    "        return None"
   ]
  },
  {
   "cell_type": "code",
   "execution_count": 193,
   "metadata": {
    "collapsed": false
   },
   "outputs": [],
   "source": [
    "def hasGenre(ID, genre):\n",
    "    if len(list(series_df[series_df['id']==ID]['real_genres']))>0:\n",
    "        return genre in list(series_df[series_df['id']==ID]['real_genres'])[0]\n",
    "    else:\n",
    "        return None"
   ]
  },
  {
   "cell_type": "code",
   "execution_count": 194,
   "metadata": {
    "collapsed": false
   },
   "outputs": [],
   "source": [
    "def StartYear(ID):\n",
    "    if len(list(series_df[series_df['id']==ID]['start_date']))>0:\n",
    "        if type(list(series_df[series_df['id']==ID]['start_date'])[0])==str:\n",
    "            return int(list(series_df[series_df['id']==ID]['start_date'])[0][:4])\n",
    "    else:\n",
    "        return None"
   ]
  },
  {
   "cell_type": "code",
   "execution_count": 195,
   "metadata": {
    "collapsed": false
   },
   "outputs": [],
   "source": [
    "def numEpisodes(ID):\n",
    "    if len(list(series_df[series_df['id']==ID]['total_episodes']))>0:\n",
    "        return list(series_df[series_df['id']==ID]['total_episodes'])[0]\n",
    "    else: \n",
    "        return None"
   ]
  },
  {
   "cell_type": "code",
   "execution_count": 196,
   "metadata": {
    "collapsed": false
   },
   "outputs": [],
   "source": [
    "def Type(ID):\n",
    "    if len(list(series_df[series_df['id']==ID]['type']))>0:\n",
    "        return list(series_df[series_df['id']==ID]['type'])[0]\n",
    "    else:\n",
    "        return None"
   ]
  },
  {
   "cell_type": "code",
   "execution_count": 197,
   "metadata": {
    "collapsed": false
   },
   "outputs": [],
   "source": [
    "titles={}\n",
    "for i in range(len(series_df)):\n",
    "    ID = np.array(series_df['id'])[i]\n",
    "    title = np.array(series_df['title_english'])[i]\n",
    "    titles[ID] = title\n"
   ]
  },
  {
   "cell_type": "code",
   "execution_count": 198,
   "metadata": {
    "collapsed": false
   },
   "outputs": [
    {
     "data": {
      "text/html": [
       "<div>\n",
       "<style>\n",
       "    .dataframe thead tr:only-child th {\n",
       "        text-align: right;\n",
       "    }\n",
       "\n",
       "    .dataframe thead th {\n",
       "        text-align: left;\n",
       "    }\n",
       "\n",
       "    .dataframe tbody tr th {\n",
       "        vertical-align: top;\n",
       "    }\n",
       "</style>\n",
       "<table border=\"1\" class=\"dataframe\">\n",
       "  <thead>\n",
       "    <tr style=\"text-align: right;\">\n",
       "      <th></th>\n",
       "      <th>adult</th>\n",
       "      <th>airing_status</th>\n",
       "      <th>description</th>\n",
       "      <th>genres</th>\n",
       "      <th>id</th>\n",
       "      <th>season</th>\n",
       "      <th>start_date</th>\n",
       "      <th>title_english</th>\n",
       "      <th>total_episodes</th>\n",
       "      <th>type</th>\n",
       "      <th>real_genres</th>\n",
       "      <th>in</th>\n",
       "      <th>average_rating</th>\n",
       "      <th>num_views</th>\n",
       "    </tr>\n",
       "  </thead>\n",
       "  <tbody>\n",
       "    <tr>\n",
       "      <th>6442</th>\n",
       "      <td>False</td>\n",
       "      <td>finished airing</td>\n",
       "      <td>Enter a world in the distant future, where Bou...</td>\n",
       "      <td>['Action', 'Adventure', 'Comedy', 'Drama', 'Sc...</td>\n",
       "      <td>1</td>\n",
       "      <td>NaN</td>\n",
       "      <td>1998-04-03T00:00:00+09:00</td>\n",
       "      <td>Cowboy Bebop</td>\n",
       "      <td>26</td>\n",
       "      <td>TV</td>\n",
       "      <td>[Action, Adventure, Comedy, Drama, Sci-Fi]</td>\n",
       "      <td>True</td>\n",
       "      <td>85.094644</td>\n",
       "      <td>10175</td>\n",
       "    </tr>\n",
       "    <tr>\n",
       "      <th>8796</th>\n",
       "      <td>False</td>\n",
       "      <td>finished airing</td>\n",
       "      <td>As the Cowboy Bebop crew travels the stars, th...</td>\n",
       "      <td>['Action', 'Drama', 'Mystery', 'Sci-Fi']</td>\n",
       "      <td>5</td>\n",
       "      <td>NaN</td>\n",
       "      <td>2001-09-01T00:00:00+09:00</td>\n",
       "      <td>Cowboy Bebop: Knockin' on Heaven's Door</td>\n",
       "      <td>1</td>\n",
       "      <td>Movie</td>\n",
       "      <td>[Action, Drama, Mystery, Sci-Fi]</td>\n",
       "      <td>True</td>\n",
       "      <td>80.694702</td>\n",
       "      <td>4530</td>\n",
       "    </tr>\n",
       "    <tr>\n",
       "      <th>9958</th>\n",
       "      <td>False</td>\n",
       "      <td>finished airing</td>\n",
       "      <td>Trigun takes place in the distant future on a ...</td>\n",
       "      <td>['Action', 'Comedy', 'Sci-Fi']</td>\n",
       "      <td>6</td>\n",
       "      <td>NaN</td>\n",
       "      <td>1998-04-01T00:00:00+09:00</td>\n",
       "      <td>Trigun</td>\n",
       "      <td>26</td>\n",
       "      <td>TV</td>\n",
       "      <td>[Action, Comedy, Sci-Fi]</td>\n",
       "      <td>True</td>\n",
       "      <td>79.888049</td>\n",
       "      <td>5824</td>\n",
       "    </tr>\n",
       "    <tr>\n",
       "      <th>6528</th>\n",
       "      <td>False</td>\n",
       "      <td>finished airing</td>\n",
       "      <td>Witches are individuals with special powers li...</td>\n",
       "      <td>['Action', 'Drama', 'Mystery', 'Supernatural']</td>\n",
       "      <td>7</td>\n",
       "      <td>NaN</td>\n",
       "      <td>2002-07-02T00:00:00+09:00</td>\n",
       "      <td>Witch Hunter Robin</td>\n",
       "      <td>26</td>\n",
       "      <td>TV</td>\n",
       "      <td>[Action, Drama, Mystery, Supernatural]</td>\n",
       "      <td>True</td>\n",
       "      <td>71.701940</td>\n",
       "      <td>1134</td>\n",
       "    </tr>\n",
       "    <tr>\n",
       "      <th>2983</th>\n",
       "      <td>False</td>\n",
       "      <td>finished airing</td>\n",
       "      <td>It is the dark century and the people are suff...</td>\n",
       "      <td>['Adventure', 'Fantasy', 'Supernatural']</td>\n",
       "      <td>8</td>\n",
       "      <td>NaN</td>\n",
       "      <td>2004-09-30T00:00:00+09:00</td>\n",
       "      <td>Beet the Vandel Buster</td>\n",
       "      <td>52</td>\n",
       "      <td>TV</td>\n",
       "      <td>[Adventure, Fantasy, Supernatural]</td>\n",
       "      <td>True</td>\n",
       "      <td>70.015306</td>\n",
       "      <td>196</td>\n",
       "    </tr>\n",
       "  </tbody>\n",
       "</table>\n",
       "</div>"
      ],
      "text/plain": [
       "      adult    airing_status  \\\n",
       "6442  False  finished airing   \n",
       "8796  False  finished airing   \n",
       "9958  False  finished airing   \n",
       "6528  False  finished airing   \n",
       "2983  False  finished airing   \n",
       "\n",
       "                                            description  \\\n",
       "6442  Enter a world in the distant future, where Bou...   \n",
       "8796  As the Cowboy Bebop crew travels the stars, th...   \n",
       "9958  Trigun takes place in the distant future on a ...   \n",
       "6528  Witches are individuals with special powers li...   \n",
       "2983  It is the dark century and the people are suff...   \n",
       "\n",
       "                                                 genres  id  season  \\\n",
       "6442  ['Action', 'Adventure', 'Comedy', 'Drama', 'Sc...   1     NaN   \n",
       "8796           ['Action', 'Drama', 'Mystery', 'Sci-Fi']   5     NaN   \n",
       "9958                     ['Action', 'Comedy', 'Sci-Fi']   6     NaN   \n",
       "6528     ['Action', 'Drama', 'Mystery', 'Supernatural']   7     NaN   \n",
       "2983           ['Adventure', 'Fantasy', 'Supernatural']   8     NaN   \n",
       "\n",
       "                     start_date                            title_english  \\\n",
       "6442  1998-04-03T00:00:00+09:00                             Cowboy Bebop   \n",
       "8796  2001-09-01T00:00:00+09:00  Cowboy Bebop: Knockin' on Heaven's Door   \n",
       "9958  1998-04-01T00:00:00+09:00                                   Trigun   \n",
       "6528  2002-07-02T00:00:00+09:00                       Witch Hunter Robin   \n",
       "2983  2004-09-30T00:00:00+09:00                   Beet the Vandel Buster   \n",
       "\n",
       "      total_episodes   type                                 real_genres    in  \\\n",
       "6442              26     TV  [Action, Adventure, Comedy, Drama, Sci-Fi]  True   \n",
       "8796               1  Movie            [Action, Drama, Mystery, Sci-Fi]  True   \n",
       "9958              26     TV                    [Action, Comedy, Sci-Fi]  True   \n",
       "6528              26     TV      [Action, Drama, Mystery, Supernatural]  True   \n",
       "2983              52     TV          [Adventure, Fantasy, Supernatural]  True   \n",
       "\n",
       "      average_rating  num_views  \n",
       "6442       85.094644      10175  \n",
       "8796       80.694702       4530  \n",
       "9958       79.888049       5824  \n",
       "6528       71.701940       1134  \n",
       "2983       70.015306        196  "
      ]
     },
     "execution_count": 198,
     "metadata": {},
     "output_type": "execute_result"
    }
   ],
   "source": [
    "series_df.head()"
   ]
  },
  {
   "cell_type": "code",
   "execution_count": 199,
   "metadata": {
    "collapsed": false
   },
   "outputs": [],
   "source": [
    "popularity={}\n",
    "for i in range(len(series_df)):\n",
    "    ID = np.array(series_df['id'])[i]\n",
    "    avr = np.array(series_df['num_views'])[i]\n",
    "    popularity[ID] = avr"
   ]
  },
  {
   "cell_type": "code",
   "execution_count": 200,
   "metadata": {
    "collapsed": false
   },
   "outputs": [],
   "source": [
    "user=np.array([row for row in scores if row[0] in item_mapping])\n",
    "\n",
    "#user=np.array([[row[0]-1, row[1]] for row in user])\n",
    "# print user"
   ]
  },
  {
   "cell_type": "code",
   "execution_count": 201,
   "metadata": {
    "collapsed": false,
    "scrolled": true
   },
   "outputs": [
    {
     "name": "stdout",
     "output_type": "stream",
     "text": [
      "10 9751\n"
     ]
    }
   ],
   "source": [
    "V=np.array(V_T_df[['col'+str(i) for i in range(1,11)]]).T\n",
    "print V.shape[0], V.shape[1]"
   ]
  },
  {
   "cell_type": "code",
   "execution_count": 202,
   "metadata": {
    "collapsed": false
   },
   "outputs": [
    {
     "data": {
      "text/html": [
       "<div>\n",
       "<style>\n",
       "    .dataframe thead tr:only-child th {\n",
       "        text-align: right;\n",
       "    }\n",
       "\n",
       "    .dataframe thead th {\n",
       "        text-align: left;\n",
       "    }\n",
       "\n",
       "    .dataframe tbody tr th {\n",
       "        vertical-align: top;\n",
       "    }\n",
       "</style>\n",
       "<table border=\"1\" class=\"dataframe\">\n",
       "  <thead>\n",
       "    <tr style=\"text-align: right;\">\n",
       "      <th></th>\n",
       "      <th>Unnamed: 0</th>\n",
       "      <th>anime_id</th>\n",
       "      <th>avg_for_show</th>\n",
       "      <th>in</th>\n",
       "    </tr>\n",
       "  </thead>\n",
       "  <tbody>\n",
       "    <tr>\n",
       "      <th>0</th>\n",
       "      <td>0</td>\n",
       "      <td>1</td>\n",
       "      <td>85.094644</td>\n",
       "      <td>True</td>\n",
       "    </tr>\n",
       "    <tr>\n",
       "      <th>1</th>\n",
       "      <td>1</td>\n",
       "      <td>5</td>\n",
       "      <td>80.694702</td>\n",
       "      <td>True</td>\n",
       "    </tr>\n",
       "    <tr>\n",
       "      <th>2</th>\n",
       "      <td>2</td>\n",
       "      <td>6</td>\n",
       "      <td>79.888049</td>\n",
       "      <td>True</td>\n",
       "    </tr>\n",
       "    <tr>\n",
       "      <th>3</th>\n",
       "      <td>3</td>\n",
       "      <td>7</td>\n",
       "      <td>71.701940</td>\n",
       "      <td>True</td>\n",
       "    </tr>\n",
       "    <tr>\n",
       "      <th>4</th>\n",
       "      <td>4</td>\n",
       "      <td>8</td>\n",
       "      <td>70.015306</td>\n",
       "      <td>True</td>\n",
       "    </tr>\n",
       "  </tbody>\n",
       "</table>\n",
       "</div>"
      ],
      "text/plain": [
       "   Unnamed: 0  anime_id  avg_for_show    in\n",
       "0           0         1     85.094644  True\n",
       "1           1         5     80.694702  True\n",
       "2           2         6     79.888049  True\n",
       "3           3         7     71.701940  True\n",
       "4           4         8     70.015306  True"
      ]
     },
     "execution_count": 202,
     "metadata": {},
     "output_type": "execute_result"
    }
   ],
   "source": [
    "avg_show.head()"
   ]
  },
  {
   "cell_type": "code",
   "execution_count": 203,
   "metadata": {
    "collapsed": false
   },
   "outputs": [
    {
     "name": "stdout",
     "output_type": "stream",
     "text": [
      "85.0946437346\n"
     ]
    }
   ],
   "source": [
    "average_ratings={}\n",
    "for i in range(len(avg_show)):\n",
    "    ID = np.array(series_df['id'])[i]\n",
    "    avr = np.array(series_df['average_rating'])[i]\n",
    "    average_ratings[ID] = avr\n",
    "print average_ratings[1]"
   ]
  },
  {
   "cell_type": "code",
   "execution_count": 204,
   "metadata": {
    "collapsed": false
   },
   "outputs": [],
   "source": [
    "user_vector = np.zeros(V.shape[1])\n",
    "for row in user:\n",
    "    user_vector[list(item_mapping).index(row[0])]=row[1]+74-np.mean(user[:,1])-average_ratings[row[0]]"
   ]
  },
  {
   "cell_type": "code",
   "execution_count": 205,
   "metadata": {
    "collapsed": false
   },
   "outputs": [],
   "source": [
    "new_user=user_vector[np.where(user_vector!=0)]\n",
    "new_V=V.T[np.where(user_vector!=0)].T\n",
    "s=np.linalg.lstsq(new_V.T,new_user.T)[0].T\n",
    "new_R=np.dot(s,V)\n",
    "for i in range(len(new_R)):\n",
    "    ratio = (popularity[item_mapping[i]]-np.sqrt(popularity[item_mapping[i]]))/popularity[item_mapping[i]]\n",
    "    new_R[i]=(new_R[i]+average_ratings[item_mapping[i]]+np.mean(user[:,1])-74)*ratio"
   ]
  },
  {
   "cell_type": "code",
   "execution_count": 206,
   "metadata": {
    "collapsed": false
   },
   "outputs": [
    {
     "name": "stdout",
     "output_type": "stream",
     "text": [
      "<type 'numpy.ndarray'>\n"
     ]
    }
   ],
   "source": [
    "print type(new_R)"
   ]
  },
  {
   "cell_type": "code",
   "execution_count": 207,
   "metadata": {
    "collapsed": false
   },
   "outputs": [],
   "source": [
    "seen = [row[0] for row in scores]\n",
    "others = [watching, dropped, on_hold, plan_to_watch]\n",
    "for x in others:\n",
    "    for i in range(len(x)):\n",
    "        seen.append(x[i]['anime']['id'])"
   ]
  },
  {
   "cell_type": "code",
   "execution_count": 208,
   "metadata": {
    "collapsed": false
   },
   "outputs": [],
   "source": [
    "series_df['predicted_ratings'] = new_R"
   ]
  },
  {
   "cell_type": "code",
   "execution_count": 209,
   "metadata": {
    "collapsed": false
   },
   "outputs": [],
   "source": [
    "def startyear(string):\n",
    "    try:\n",
    "        result = int(string[:4])\n",
    "    except:\n",
    "        result = 1\n",
    "    return 1"
   ]
  },
  {
   "cell_type": "code",
   "execution_count": 210,
   "metadata": {
    "collapsed": false
   },
   "outputs": [
    {
     "name": "stdout",
     "output_type": "stream",
     "text": [
      "                        title_english  predicted_ratings\n",
      "9514              LUPIN THE 3rd PART4         114.558246\n",
      "8178    Pretty Rhythm: Dear My Future         109.220913\n",
      "1062   Detective Opera Milky Holmes 2         108.316188\n",
      "1933                    Sailor Moon S         105.204882\n",
      "10128             Yumemiru Toppo Jijo         104.627241\n",
      "6222                      Tetsujin 28         104.433200\n",
      "3619         Sailor Moon Sailor Stars         102.320681\n",
      "6649                      Getter Robo         101.817479\n",
      "1632           Fist of the North Star         101.292929\n",
      "3660                The Tatami Galaxy         100.984817\n",
      "70        Showa Genroku Rakugo Shinju         100.889736\n",
      "2273                      Hyouge Mono         100.646061\n",
      "5213          Neon Genesis Evangelion         100.374883\n",
      "2349                 The Flying House         100.268210\n",
      "7705         Revolutionary Girl Utena         100.109670\n"
     ]
    }
   ],
   "source": [
    "f_type = (True, 'TV')\n",
    "f_genres = (False, 'Adventure')\n",
    "f_year = (False, 2014, 2016)\n",
    "f_episodes = (False, 1, 100)\n",
    "f_adult = (False, True)\n",
    "f_popularity = (False, 5000)\n",
    "\n",
    "if f_type[0]:\n",
    "    series_df = series_df[series_df['type']==f_type[1]]\n",
    "if f_genres[0]:\n",
    "    series_df['has_genre'] = series_df['real_genres'].apply(lambda x: f_genres[1] in x)\n",
    "    series_df = series_df[series_df['has_genre']]\n",
    "if f_year[0]:\n",
    "    series_df['start_year'] = series_df['start_date'].apply(startyear)\n",
    "    series_df = series_df[series_df['start_year']>=f_year[1]]\n",
    "    series_df = series_df[series_df['start_year']<=f_year[2]]\n",
    "if f_episodes[0]:\n",
    "    series_df = series_df[series_df['total_episodes']>=f_episodes[1]]\n",
    "    series_df = series_df[series_df['total_episodes']<=f_episodes[2]]\n",
    "if f_adult[0]:\n",
    "    series_df = series_df[series_df['adult']==f_adult[1]]\n",
    "if f_popularity[0]:\n",
    "    series_df = series_df[series_df['num_views']>=f_popularity[1]]\n",
    "series_df = series_df.sort_values('predicted_ratings', ascending=False)\n",
    "series_df['not_seen'] = series_df['id'].apply(lambda x: x not in seen)\n",
    "series_df = series_df[series_df['not_seen']]\n",
    "print series_df[['title_english', 'predicted_ratings']].head(15)\n",
    "\n",
    "\n",
    "    \n",
    "    "
   ]
  },
  {
   "cell_type": "code",
   "execution_count": 211,
   "metadata": {
    "collapsed": false
   },
   "outputs": [
    {
     "name": "stdout",
     "output_type": "stream",
     "text": [
      "['Action', 'Adventure', 'Comedy', 'Music', 'Sports', 'Mystery', 'Drama', 'Romance', 'Mahou Shoujo', 'Mecha', 'Sci-Fi', 'Fantasy', 'Psychological', 'Ecchi', 'Supernatural', 'Horror', 'Thriller', 'Slice of Life', '']\n"
     ]
    }
   ],
   "source": [
    "G = []\n",
    "for x in series_df['real_genres']:\n",
    "    for y in x:\n",
    "        if y not in G:\n",
    "            G.append(y)\n",
    "print G"
   ]
  },
  {
   "cell_type": "code",
   "execution_count": 212,
   "metadata": {
    "collapsed": false
   },
   "outputs": [
    {
     "data": {
      "text/plain": [
       "array([6551, 7399, 8522, ..., 5302, 8036, 3571])"
      ]
     },
     "execution_count": 212,
     "metadata": {},
     "output_type": "execute_result"
    }
   ],
   "source": [
    "np.argsort(-1*new_R)"
   ]
  },
  {
   "cell_type": "code",
   "execution_count": 213,
   "metadata": {
    "collapsed": false
   },
   "outputs": [
    {
     "data": {
      "text/plain": [
       "3.0"
      ]
     },
     "execution_count": 213,
     "metadata": {},
     "output_type": "execute_result"
    }
   ],
   "source": [
    "np.sqrt(9)\n"
   ]
  }
 ],
 "metadata": {
  "kernelspec": {
   "display_name": "Python 2",
   "language": "python",
   "name": "python2"
  },
  "language_info": {
   "codemirror_mode": {
    "name": "ipython",
    "version": 2
   },
   "file_extension": ".py",
   "mimetype": "text/x-python",
   "name": "python",
   "nbconvert_exporter": "python",
   "pygments_lexer": "ipython2",
   "version": "2.7.13"
  }
 },
 "nbformat": 4,
 "nbformat_minor": 2
}
